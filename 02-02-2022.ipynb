{
 "cells": [
  {
   "cell_type": "markdown",
   "id": "50c28643",
   "metadata": {},
   "source": [
    "### Input and Output Methods\n",
    "- reading data or information from the user......***input()***\n",
    "    - static input\n",
    "    - dynamical input\n",
    "- displaying the information"
   ]
  },
  {
   "cell_type": "code",
   "execution_count": 1,
   "id": "1a2cc4e8",
   "metadata": {},
   "outputs": [
    {
     "name": "stdout",
     "output_type": "stream",
     "text": [
      "20\n",
      "48\n"
     ]
    }
   ],
   "source": [
    "a=20\n",
    "b=48\n",
    "print(a)\n",
    "print(b)"
   ]
  },
  {
   "cell_type": "code",
   "execution_count": 2,
   "id": "7f14e900",
   "metadata": {},
   "outputs": [
    {
     "name": "stdout",
     "output_type": "stream",
     "text": [
      "748\n"
     ]
    },
    {
     "data": {
      "text/plain": [
       "'748'"
      ]
     },
     "execution_count": 2,
     "metadata": {},
     "output_type": "execute_result"
    }
   ],
   "source": [
    "a=input()\n",
    "a"
   ]
  },
  {
   "cell_type": "code",
   "execution_count": 3,
   "id": "5db7ad5a",
   "metadata": {},
   "outputs": [
    {
     "name": "stdout",
     "output_type": "stream",
     "text": [
      "enter user value456\n"
     ]
    },
    {
     "data": {
      "text/plain": [
       "'456'"
      ]
     },
     "execution_count": 3,
     "metadata": {},
     "output_type": "execute_result"
    }
   ],
   "source": [
    "a=input(\"enter user value\")\n",
    "a"
   ]
  },
  {
   "cell_type": "code",
   "execution_count": 4,
   "id": "07352143",
   "metadata": {},
   "outputs": [
    {
     "name": "stdout",
     "output_type": "stream",
     "text": [
      "enter user value456\n"
     ]
    },
    {
     "data": {
      "text/plain": [
       "456.0"
      ]
     },
     "execution_count": 4,
     "metadata": {},
     "output_type": "execute_result"
    }
   ],
   "source": [
    "a=float(input(\"enter user value\"))\n",
    "a"
   ]
  },
  {
   "cell_type": "code",
   "execution_count": 1,
   "id": "51e3142d",
   "metadata": {},
   "outputs": [
    {
     "name": "stdout",
     "output_type": "stream",
     "text": [
      "enter value456\n",
      "456\n"
     ]
    }
   ],
   "source": [
    "a=input(\"enter value\")\n",
    "print(a)"
   ]
  },
  {
   "cell_type": "code",
   "execution_count": 2,
   "id": "4916e17f",
   "metadata": {},
   "outputs": [
    {
     "name": "stdout",
     "output_type": "stream",
     "text": [
      "20 30 50\n"
     ]
    }
   ],
   "source": [
    "a=20\n",
    "b=30\n",
    "c=50\n",
    "print(a,b,c)"
   ]
  },
  {
   "cell_type": "code",
   "execution_count": 4,
   "id": "e0a9101f",
   "metadata": {},
   "outputs": [
    {
     "name": "stdout",
     "output_type": "stream",
     "text": [
      "20,30,50\n"
     ]
    }
   ],
   "source": [
    "a=20\n",
    "b=30\n",
    "c=50\n",
    "print(a,b,c,sep=',')"
   ]
  },
  {
   "cell_type": "code",
   "execution_count": 5,
   "id": "2999bb22",
   "metadata": {},
   "outputs": [
    {
     "name": "stdout",
     "output_type": "stream",
     "text": [
      "20,30,50%d"
     ]
    }
   ],
   "source": [
    "a=20\n",
    "b=30\n",
    "c=50\n",
    "print(a,b,c,sep=',',end='%d')"
   ]
  },
  {
   "cell_type": "code",
   "execution_count": 3,
   "id": "11bca21d",
   "metadata": {},
   "outputs": [
    {
     "name": "stdout",
     "output_type": "stream",
     "text": [
      "Help on built-in function print in module builtins:\n",
      "\n",
      "print(...)\n",
      "    print(value, ..., sep=' ', end='\\n', file=sys.stdout, flush=False)\n",
      "    \n",
      "    Prints the values to a stream, or to sys.stdout by default.\n",
      "    Optional keyword arguments:\n",
      "    file:  a file-like object (stream); defaults to the current sys.stdout.\n",
      "    sep:   string inserted between values, default a space.\n",
      "    end:   string appended after the last value, default a newline.\n",
      "    flush: whether to forcibly flush the stream.\n",
      "\n"
     ]
    }
   ],
   "source": [
    "help(print)"
   ]
  },
  {
   "cell_type": "code",
   "execution_count": 10,
   "id": "43cdd5ea",
   "metadata": {},
   "outputs": [
    {
     "name": "stdout",
     "output_type": "stream",
     "text": [
      "enter 1st value45\n",
      "enter 2nd value74\n",
      "enter 3rd value24\n",
      "45$74$24%"
     ]
    }
   ],
   "source": [
    "# Generate the three values from the user,that values seperate with $ and end with %\n",
    "a=input(\"enter 1st value\")\n",
    "b=input(\"enter 2nd value\")\n",
    "c=input(\"enter 3rd value\")\n",
    "print(a,b,c,sep=\"$\",end=\"%\")\n"
   ]
  },
  {
   "cell_type": "markdown",
   "id": "bd0ef924",
   "metadata": {},
   "source": [
    "### Operators\n",
    "- Arithmatic operators(+,-,*,/,//,%)\n",
    "    - output for the normal division is quotient\n",
    "    - output for the int division or floor division is integer part of the quotient\n",
    "    - output for the modulo division is remainder\n",
    "- Assingment operators(=)\n",
    "- Comparision operators(<,>,<=,>=,==)\n",
    "- Logical operators(and,or,not)\n",
    "- Bitwise operators(&,|,^)\n",
    "- Identity operators(is(==),isnot(!=))\n",
    "- membership operators(in,notin)"
   ]
  },
  {
   "cell_type": "markdown",
   "id": "30c9c4fc",
   "metadata": {},
   "source": [
    "### Arithmatic operators"
   ]
  },
  {
   "cell_type": "code",
   "execution_count": 14,
   "id": "1f6626ae",
   "metadata": {},
   "outputs": [
    {
     "name": "stdout",
     "output_type": "stream",
     "text": [
      "addition 116\n",
      "subtraction 52\n",
      "multiplication 2688\n",
      "power 37751755704548378805924827612785513671134948244859424662880256\n",
      "division 2.625\n",
      "int division or floor division 2\n",
      "modulo division 20\n"
     ]
    }
   ],
   "source": [
    "a=84\n",
    "b=32\n",
    "print(\"addition\",a+b)\n",
    "print(\"subtraction\",a-b)\n",
    "print(\"multiplication\",a*b)\n",
    "print(\"power\",a**b)\n",
    "print(\"division\",a/b)\n",
    "print(\"int division or floor division\",a//b)\n",
    "print(\"modulo division\",a%b)"
   ]
  },
  {
   "cell_type": "markdown",
   "id": "0fab9885",
   "metadata": {},
   "source": [
    "### Assignment operators\n",
    "- It represented with =\n",
    "- Left side value of the operator(=) is called as a varaible\n",
    "- Right side value of the varaible(=) is called as value"
   ]
  },
  {
   "cell_type": "code",
   "execution_count": 15,
   "id": "c2f28d33",
   "metadata": {},
   "outputs": [
    {
     "name": "stdout",
     "output_type": "stream",
     "text": [
      "78\n",
      "36\n"
     ]
    }
   ],
   "source": [
    "a=78\n",
    "b=36\n",
    "print(a)\n",
    "print(b)"
   ]
  },
  {
   "cell_type": "markdown",
   "id": "c1dcfc5f",
   "metadata": {},
   "source": [
    "### Camparision operator"
   ]
  },
  {
   "cell_type": "code",
   "execution_count": 16,
   "id": "43f3beba",
   "metadata": {},
   "outputs": [
    {
     "data": {
      "text/plain": [
       "False"
      ]
     },
     "execution_count": 16,
     "metadata": {},
     "output_type": "execute_result"
    }
   ],
   "source": [
    "2>8"
   ]
  },
  {
   "cell_type": "code",
   "execution_count": 17,
   "id": "0d36619a",
   "metadata": {},
   "outputs": [
    {
     "data": {
      "text/plain": [
       "True"
      ]
     },
     "execution_count": 17,
     "metadata": {},
     "output_type": "execute_result"
    }
   ],
   "source": [
    "2<8"
   ]
  },
  {
   "cell_type": "code",
   "execution_count": null,
   "id": "d96dc0cc",
   "metadata": {},
   "outputs": [],
   "source": [
    "if 2>8 and 2<=6;\n",
    "    print(\"print true or false\")\n",
    "else;\n",
    "    print(\"\")"
   ]
  },
  {
   "cell_type": "code",
   "execution_count": null,
   "id": "4994fcef",
   "metadata": {},
   "outputs": [],
   "source": []
  },
  {
   "cell_type": "markdown",
   "id": "fca5d6fc",
   "metadata": {},
   "source": [
    "### Logical operators\n",
    "- and,or,not\n",
    "- If all the inputs are true the output is true(and).\n",
    "- If any of the input is true the output is true(or).\n",
    "- Opposite operation for the given one. "
   ]
  },
  {
   "cell_type": "code",
   "execution_count": 18,
   "id": "c3779041",
   "metadata": {},
   "outputs": [
    {
     "data": {
      "text/plain": [
       "False"
      ]
     },
     "execution_count": 18,
     "metadata": {},
     "output_type": "execute_result"
    }
   ],
   "source": [
    "2<4 and 3>5"
   ]
  },
  {
   "cell_type": "code",
   "execution_count": 19,
   "id": "78c5f185",
   "metadata": {},
   "outputs": [
    {
     "data": {
      "text/plain": [
       "True"
      ]
     },
     "execution_count": 19,
     "metadata": {},
     "output_type": "execute_result"
    }
   ],
   "source": [
    "2<5 and 8>5"
   ]
  },
  {
   "cell_type": "code",
   "execution_count": 20,
   "id": "2a5878ab",
   "metadata": {},
   "outputs": [
    {
     "data": {
      "text/plain": [
       "True"
      ]
     },
     "execution_count": 20,
     "metadata": {},
     "output_type": "execute_result"
    }
   ],
   "source": [
    "2<4 or 3>5"
   ]
  },
  {
   "cell_type": "code",
   "execution_count": 21,
   "id": "2a31dc9b",
   "metadata": {},
   "outputs": [
    {
     "data": {
      "text/plain": [
       "False"
      ]
     },
     "execution_count": 21,
     "metadata": {},
     "output_type": "execute_result"
    }
   ],
   "source": [
    "3>5 or 8<3"
   ]
  },
  {
   "cell_type": "code",
   "execution_count": 22,
   "id": "164f765b",
   "metadata": {},
   "outputs": [
    {
     "data": {
      "text/plain": [
       "False"
      ]
     },
     "execution_count": 22,
     "metadata": {},
     "output_type": "execute_result"
    }
   ],
   "source": [
    "a=100\n",
    "not a"
   ]
  },
  {
   "cell_type": "markdown",
   "id": "304a8723",
   "metadata": {},
   "source": [
    "### Bitwise operators"
   ]
  },
  {
   "cell_type": "code",
   "execution_count": 23,
   "id": "a3cf00bf",
   "metadata": {},
   "outputs": [
    {
     "data": {
      "text/plain": [
       "2"
      ]
     },
     "execution_count": 23,
     "metadata": {},
     "output_type": "execute_result"
    }
   ],
   "source": [
    "2 & 3\n",
    "# 2- 0 0 1 0\n",
    "# 3- 0 0 1 1\n",
    "# ----------------\n",
    "#  - 0 0 1 0"
   ]
  },
  {
   "cell_type": "code",
   "execution_count": 24,
   "id": "3bd019c4",
   "metadata": {},
   "outputs": [
    {
     "data": {
      "text/plain": [
       "7"
      ]
     },
     "execution_count": 24,
     "metadata": {},
     "output_type": "execute_result"
    }
   ],
   "source": [
    "3|5"
   ]
  },
  {
   "cell_type": "code",
   "execution_count": 25,
   "id": "28a4b71a",
   "metadata": {},
   "outputs": [
    {
     "data": {
      "text/plain": [
       "15"
      ]
     },
     "execution_count": 25,
     "metadata": {},
     "output_type": "execute_result"
    }
   ],
   "source": [
    "6^9"
   ]
  },
  {
   "cell_type": "code",
   "execution_count": 26,
   "id": "c72c8693",
   "metadata": {},
   "outputs": [
    {
     "data": {
      "text/plain": [
       "16"
      ]
     },
     "execution_count": 26,
     "metadata": {},
     "output_type": "execute_result"
    }
   ],
   "source": [
    "2<<3"
   ]
  },
  {
   "cell_type": "code",
   "execution_count": 27,
   "id": "29c3488f",
   "metadata": {},
   "outputs": [
    {
     "data": {
      "text/plain": [
       "0"
      ]
     },
     "execution_count": 27,
     "metadata": {},
     "output_type": "execute_result"
    }
   ],
   "source": [
    "2>>3"
   ]
  },
  {
   "cell_type": "markdown",
   "id": "263177b1",
   "metadata": {},
   "source": [
    "### Identity operators"
   ]
  },
  {
   "cell_type": "code",
   "execution_count": 30,
   "id": "34f93cbc",
   "metadata": {},
   "outputs": [
    {
     "name": "stderr",
     "output_type": "stream",
     "text": [
      "<>:1: SyntaxWarning: \"is\" with a literal. Did you mean \"==\"?\n",
      "<>:1: SyntaxWarning: \"is not\" with a literal. Did you mean \"!=\"?\n",
      "<>:1: SyntaxWarning: \"is\" with a literal. Did you mean \"==\"?\n",
      "<>:1: SyntaxWarning: \"is not\" with a literal. Did you mean \"!=\"?\n",
      "C:\\Users\\Lab\\AppData\\Local\\Temp/ipykernel_4812/1988167162.py:1: SyntaxWarning: \"is\" with a literal. Did you mean \"==\"?\n",
      "  a is 100 and a is not 100\n",
      "C:\\Users\\Lab\\AppData\\Local\\Temp/ipykernel_4812/1988167162.py:1: SyntaxWarning: \"is not\" with a literal. Did you mean \"!=\"?\n",
      "  a is 100 and a is not 100\n"
     ]
    },
    {
     "data": {
      "text/plain": [
       "False"
      ]
     },
     "execution_count": 30,
     "metadata": {},
     "output_type": "execute_result"
    }
   ],
   "source": [
    "a is 100 and a is not 100"
   ]
  },
  {
   "cell_type": "code",
   "execution_count": 31,
   "id": "e4643721",
   "metadata": {},
   "outputs": [
    {
     "data": {
      "text/plain": [
       "False"
      ]
     },
     "execution_count": 31,
     "metadata": {},
     "output_type": "execute_result"
    }
   ],
   "source": [
    "a==100 and a!=100"
   ]
  },
  {
   "cell_type": "markdown",
   "id": "8589c1f6",
   "metadata": {},
   "source": [
    "### Membership operators"
   ]
  },
  {
   "cell_type": "code",
   "execution_count": 32,
   "id": "dfd1c494",
   "metadata": {},
   "outputs": [
    {
     "data": {
      "text/plain": [
       "True"
      ]
     },
     "execution_count": 32,
     "metadata": {},
     "output_type": "execute_result"
    }
   ],
   "source": [
    "s=[1,2,4,6,8,9]\n",
    "4 in s"
   ]
  },
  {
   "cell_type": "code",
   "execution_count": 33,
   "id": "8e61e05e",
   "metadata": {},
   "outputs": [
    {
     "data": {
      "text/plain": [
       "False"
      ]
     },
     "execution_count": 33,
     "metadata": {},
     "output_type": "execute_result"
    }
   ],
   "source": [
    "10 in s"
   ]
  },
  {
   "cell_type": "code",
   "execution_count": 34,
   "id": "05960ce0",
   "metadata": {},
   "outputs": [
    {
     "data": {
      "text/plain": [
       "True"
      ]
     },
     "execution_count": 34,
     "metadata": {},
     "output_type": "execute_result"
    }
   ],
   "source": [
    "2 in s"
   ]
  },
  {
   "cell_type": "code",
   "execution_count": 35,
   "id": "fa4fa9e1",
   "metadata": {},
   "outputs": [
    {
     "data": {
      "text/plain": [
       "False"
      ]
     },
     "execution_count": 35,
     "metadata": {},
     "output_type": "execute_result"
    }
   ],
   "source": [
    "2 not in s"
   ]
  },
  {
   "cell_type": "code",
   "execution_count": 36,
   "id": "55658c54",
   "metadata": {},
   "outputs": [
    {
     "data": {
      "text/plain": [
       "58"
      ]
     },
     "execution_count": 36,
     "metadata": {},
     "output_type": "execute_result"
    }
   ],
   "source": [
    "a=57\n",
    "a=a+1\n",
    "a"
   ]
  },
  {
   "cell_type": "code",
   "execution_count": 46,
   "id": "2a09fd03",
   "metadata": {},
   "outputs": [],
   "source": [
    "a=34\n",
    "a+=1\n",
    "## a+=1 ---->a=a+1\n",
    "## a-=1 ---->a=a-1\n",
    "## a*=1 ---->a=a*1\n",
    "## a/=1 ---->a=a/1"
   ]
  },
  {
   "cell_type": "code",
   "execution_count": 47,
   "id": "0834f317",
   "metadata": {},
   "outputs": [
    {
     "data": {
      "text/plain": [
       "35"
      ]
     },
     "execution_count": 47,
     "metadata": {},
     "output_type": "execute_result"
    }
   ],
   "source": [
    "a"
   ]
  },
  {
   "cell_type": "code",
   "execution_count": 48,
   "id": "3d27f398",
   "metadata": {},
   "outputs": [],
   "source": [
    "a=34\n",
    "a-=1\n",
    "## a+=1 ---->a=a+1\n",
    "## a-=1 ---->a=a-1\n",
    "## a*=1 ---->a=a*1\n",
    "## a/=1 ---->a=a/1"
   ]
  },
  {
   "cell_type": "code",
   "execution_count": 49,
   "id": "b992dab5",
   "metadata": {},
   "outputs": [
    {
     "data": {
      "text/plain": [
       "33"
      ]
     },
     "execution_count": 49,
     "metadata": {},
     "output_type": "execute_result"
    }
   ],
   "source": [
    "a"
   ]
  },
  {
   "cell_type": "code",
   "execution_count": 51,
   "id": "7337a031",
   "metadata": {},
   "outputs": [],
   "source": [
    "a=34\n",
    "a*=2\n",
    "## a+=1 ---->a=a+1\n",
    "## a-=1 ---->a=a-1\n",
    "## a*=1 ---->a=a*1\n",
    "## a/=1 ---->a=a/1"
   ]
  },
  {
   "cell_type": "code",
   "execution_count": 52,
   "id": "58a51cb8",
   "metadata": {},
   "outputs": [
    {
     "data": {
      "text/plain": [
       "68"
      ]
     },
     "execution_count": 52,
     "metadata": {},
     "output_type": "execute_result"
    }
   ],
   "source": [
    "a"
   ]
  },
  {
   "cell_type": "code",
   "execution_count": 53,
   "id": "79f86b87",
   "metadata": {},
   "outputs": [],
   "source": [
    "a=34\n",
    "a/=2\n",
    "## a+=1 ---->a=a+1\n",
    "## a-=1 ---->a=a-1\n",
    "## a*=1 ---->a=a*1\n",
    "## a/=1 ---->a=a/1"
   ]
  },
  {
   "cell_type": "code",
   "execution_count": 54,
   "id": "6f29f1ed",
   "metadata": {},
   "outputs": [
    {
     "data": {
      "text/plain": [
       "17.0"
      ]
     },
     "execution_count": 54,
     "metadata": {},
     "output_type": "execute_result"
    }
   ],
   "source": [
    "a"
   ]
  },
  {
   "cell_type": "markdown",
   "id": "5bef9f5a",
   "metadata": {},
   "source": [
    "### Flow control\n",
    "- Conditional statements(if,else,elif,nestedif)\n",
    "- loops(for,while)\n",
    "- break,return"
   ]
  },
  {
   "cell_type": "code",
   "execution_count": 55,
   "id": "8cf5422b",
   "metadata": {},
   "outputs": [
    {
     "ename": "SyntaxError",
     "evalue": "invalid syntax (Temp/ipykernel_4812/3545136886.py, line 2)",
     "output_type": "error",
     "traceback": [
      "\u001b[1;36m  File \u001b[1;32m\"C:\\Users\\Lab\\AppData\\Local\\Temp/ipykernel_4812/3545136886.py\"\u001b[1;36m, line \u001b[1;32m2\u001b[0m\n\u001b[1;33m    if(condition){\u001b[0m\n\u001b[1;37m                 ^\u001b[0m\n\u001b[1;31mSyntaxError\u001b[0m\u001b[1;31m:\u001b[0m invalid syntax\n"
     ]
    }
   ],
   "source": [
    "# c-language \n",
    "if(condition){\n",
    "    print(a)\n",
    "}"
   ]
  },
  {
   "cell_type": "markdown",
   "id": "26c9adb4",
   "metadata": {},
   "source": [
    "### Conditional statement "
   ]
  },
  {
   "cell_type": "code",
   "execution_count": null,
   "id": "3d00db1a",
   "metadata": {},
   "outputs": [],
   "source": [
    "# if \n",
    "if (condition):\n",
    "    statement1\n",
    "    statement2\n",
    "    statement3\n",
    "    ----------\n",
    "    statementn\n",
    "else:\n",
    "    statement1\n",
    "    statement2\n",
    "    statement3\n",
    "    ----------\n",
    "    statementn"
   ]
  },
  {
   "cell_type": "code",
   "execution_count": null,
   "id": "394afa4d",
   "metadata": {},
   "outputs": [],
   "source": [
    "# if - else\n",
    "if (condition):\n",
    "    statement1\n",
    "    statement2\n",
    "    statement3\n",
    "    ----------\n",
    "    statementn\n",
    "else:\n",
    "    statement1\n",
    "    statement2\n",
    "    statement3\n",
    "    ----------\n",
    "    statementn"
   ]
  },
  {
   "cell_type": "code",
   "execution_count": 56,
   "id": "2fee77d5",
   "metadata": {},
   "outputs": [],
   "source": [
    "if 2>3:\n",
    "    print(\"True\")\n",
    "    print(\"False\")"
   ]
  },
  {
   "cell_type": "code",
   "execution_count": 57,
   "id": "abf51c43",
   "metadata": {},
   "outputs": [
    {
     "name": "stdout",
     "output_type": "stream",
     "text": [
      "False\n"
     ]
    }
   ],
   "source": [
    "if 2>3:\n",
    "    print(\"True\")\n",
    "else:\n",
    "    print(\"False\")"
   ]
  },
  {
   "cell_type": "code",
   "execution_count": 69,
   "id": "82ba27cc",
   "metadata": {},
   "outputs": [
    {
     "name": "stdout",
     "output_type": "stream",
     "text": [
      "enter the number\n",
      "38\n",
      "even number\n"
     ]
    }
   ],
   "source": [
    "# given number is even or odd\n",
    "n=int(input(\"enter the number\\n\"))\n",
    "if(n%2==0):\n",
    "    print(\"even number\")\n",
    "else:\n",
    "    print(\"odd number\")\n",
    "    "
   ]
  },
  {
   "cell_type": "code",
   "execution_count": 70,
   "id": "876dfec4",
   "metadata": {},
   "outputs": [
    {
     "name": "stdout",
     "output_type": "stream",
     "text": [
      "enter the number\n",
      "63\n",
      "positive\n"
     ]
    }
   ],
   "source": [
    "# given number is zero or positive or negative\n",
    "n=int(input(\"enter the number\\n\"))\n",
    "if(n==0):\n",
    "    print(\"zero\")\n",
    "elif(n>0):\n",
    "    print(\"positive\")\n",
    "else:\n",
    "    print(\"negative\")"
   ]
  },
  {
   "cell_type": "code",
   "execution_count": 72,
   "id": "9be704ad",
   "metadata": {},
   "outputs": [
    {
     "name": "stderr",
     "output_type": "stream",
     "text": [
      "<>:3: SyntaxWarning: \"is\" with a literal. Did you mean \"==\"?\n",
      "<>:3: SyntaxWarning: \"is not\" with a literal. Did you mean \"!=\"?\n",
      "<>:3: SyntaxWarning: \"is\" with a literal. Did you mean \"==\"?\n",
      "<>:3: SyntaxWarning: \"is not\" with a literal. Did you mean \"!=\"?\n"
     ]
    },
    {
     "name": "stdout",
     "output_type": "stream",
     "text": [
      "enter the value\t76\n",
      "valid number\n"
     ]
    },
    {
     "name": "stderr",
     "output_type": "stream",
     "text": [
      "C:\\Users\\Lab\\AppData\\Local\\Temp/ipykernel_4812/2103140627.py:3: SyntaxWarning: \"is\" with a literal. Did you mean \"==\"?\n",
      "  if(n%2 is 0 and n%10 is not 0):\n",
      "C:\\Users\\Lab\\AppData\\Local\\Temp/ipykernel_4812/2103140627.py:3: SyntaxWarning: \"is not\" with a literal. Did you mean \"!=\"?\n",
      "  if(n%2 is 0 and n%10 is not 0):\n"
     ]
    }
   ],
   "source": [
    "# number is divisible by 2 but not divisible by 10\n",
    "n=int(input(\"enter the value\\t\"))\n",
    "if(n%2 is 0 and n%10 is not 0):\n",
    "    print(\"valid number\")\n",
    "else:\n",
    "    print(\"invalid number\")"
   ]
  },
  {
   "cell_type": "code",
   "execution_count": 73,
   "id": "fba092e5",
   "metadata": {},
   "outputs": [
    {
     "name": "stdout",
     "output_type": "stream",
     "text": [
      "enter the value\t75\n",
      "invalid number\n"
     ]
    }
   ],
   "source": [
    "n=int(input(\"enter the value\\t\"))\n",
    "if(n%2==0 and n%10!=0):\n",
    "    print(\"valid number\")\n",
    "else:\n",
    "    print(\"invalid number\")"
   ]
  },
  {
   "cell_type": "markdown",
   "id": "c86ced58",
   "metadata": {},
   "source": [
    "### Range\n",
    "- Syntax for the range is range(start,end value,step value)\n",
    "- Starting value is inclusive and end value is exclusive\n"
   ]
  },
  {
   "cell_type": "code",
   "execution_count": null,
   "id": "0981b403",
   "metadata": {},
   "outputs": [],
   "source": [
    "range(start,end,step)"
   ]
  },
  {
   "cell_type": "code",
   "execution_count": null,
   "id": "5c222858",
   "metadata": {},
   "outputs": [],
   "source": [
    "range(10,20,1)\n",
    "# 10,11,12,13,14,15,16,17,18,19\n",
    "range(20,30,2)\n",
    "# 20,22,24,26,28\n",
    "range(20,41,5)\n",
    "# 20,25,30,35,40\n",
    "range(50)\n",
    "# consider as start value\n",
    "range(20,30)\n",
    "# consider start value and end value \n",
    "range(10,1,-1)\n",
    "# reverse print"
   ]
  },
  {
   "cell_type": "code",
   "execution_count": 74,
   "id": "3763e45e",
   "metadata": {},
   "outputs": [
    {
     "data": {
      "text/plain": [
       "[10, 11, 12, 13, 14, 15, 16, 17, 18, 19]"
      ]
     },
     "execution_count": 74,
     "metadata": {},
     "output_type": "execute_result"
    }
   ],
   "source": [
    "list(range(10,20,1))"
   ]
  },
  {
   "cell_type": "code",
   "execution_count": 75,
   "id": "15835635",
   "metadata": {},
   "outputs": [
    {
     "data": {
      "text/plain": [
       "[20, 22, 24, 26, 28]"
      ]
     },
     "execution_count": 75,
     "metadata": {},
     "output_type": "execute_result"
    }
   ],
   "source": [
    "list(range(20,30,2))"
   ]
  },
  {
   "cell_type": "code",
   "execution_count": 76,
   "id": "e018656b",
   "metadata": {},
   "outputs": [
    {
     "data": {
      "text/plain": [
       "[20, 25, 30, 35, 40]"
      ]
     },
     "execution_count": 76,
     "metadata": {},
     "output_type": "execute_result"
    }
   ],
   "source": [
    "list(range(20,41,5))"
   ]
  },
  {
   "cell_type": "code",
   "execution_count": 78,
   "id": "bba0ab5c",
   "metadata": {},
   "outputs": [
    {
     "data": {
      "text/plain": [
       "[0, 1, 2, 3, 4, 5, 6, 7, 8, 9]"
      ]
     },
     "execution_count": 78,
     "metadata": {},
     "output_type": "execute_result"
    }
   ],
   "source": [
    "list(range(10))"
   ]
  },
  {
   "cell_type": "code",
   "execution_count": 80,
   "id": "78307aa2",
   "metadata": {},
   "outputs": [
    {
     "data": {
      "text/plain": [
       "[0,\n",
       " 1,\n",
       " 2,\n",
       " 3,\n",
       " 4,\n",
       " 5,\n",
       " 6,\n",
       " 7,\n",
       " 8,\n",
       " 9,\n",
       " 10,\n",
       " 11,\n",
       " 12,\n",
       " 13,\n",
       " 14,\n",
       " 15,\n",
       " 16,\n",
       " 17,\n",
       " 18,\n",
       " 19,\n",
       " 20,\n",
       " 21,\n",
       " 22,\n",
       " 23,\n",
       " 24,\n",
       " 25,\n",
       " 26,\n",
       " 27,\n",
       " 28,\n",
       " 29]"
      ]
     },
     "execution_count": 80,
     "metadata": {},
     "output_type": "execute_result"
    }
   ],
   "source": [
    "list(range(30))"
   ]
  },
  {
   "cell_type": "code",
   "execution_count": 81,
   "id": "d950544d",
   "metadata": {},
   "outputs": [
    {
     "data": {
      "text/plain": [
       "[10, 9, 8, 7, 6, 5, 4, 3, 2]"
      ]
     },
     "execution_count": 81,
     "metadata": {},
     "output_type": "execute_result"
    }
   ],
   "source": [
    "list(range(10,1,-1))"
   ]
  },
  {
   "cell_type": "markdown",
   "id": "3148ae0b",
   "metadata": {},
   "source": [
    "### loops\n",
    "- for,while\n",
    "- for loop :::A for loop in Python is a control flow statememnt that is used to repeatedly execute a group of statement \n",
    "            as long as the condition is satisfied such a type of statements is known as a iterative statement therefore a\n",
    "            for loop is an itterative statement"
   ]
  },
  {
   "cell_type": "code",
   "execution_count": null,
   "id": "579329d6",
   "metadata": {},
   "outputs": [],
   "source": [
    "syntax:::\n",
    "        for iter in iterable: # range predefind function in the position of iterable\n",
    "            statement1\n",
    "            statement2\n",
    "            statementn          "
   ]
  },
  {
   "cell_type": "code",
   "execution_count": 1,
   "id": "49c4dcc9",
   "metadata": {},
   "outputs": [
    {
     "name": "stdout",
     "output_type": "stream",
     "text": [
      "0,1,2,3,4,"
     ]
    }
   ],
   "source": [
    "for i in range(5):\n",
    "    print(i,end=\",\")"
   ]
  },
  {
   "cell_type": "code",
   "execution_count": 2,
   "id": "b65d03a5",
   "metadata": {},
   "outputs": [
    {
     "name": "stdout",
     "output_type": "stream",
     "text": [
      "0246810"
     ]
    }
   ],
   "source": [
    "for i in range(0,11,2):\n",
    "    print(i,end=\"\")"
   ]
  },
  {
   "cell_type": "code",
   "execution_count": 3,
   "id": "43e61a3b",
   "metadata": {},
   "outputs": [
    {
     "name": "stdout",
     "output_type": "stream",
     "text": [
      "0,2,4,6,8,10,"
     ]
    }
   ],
   "source": [
    "for i in range(0,11,2):\n",
    "    print(i,end=\",\")"
   ]
  },
  {
   "cell_type": "code",
   "execution_count": 4,
   "id": "b315915a",
   "metadata": {},
   "outputs": [
    {
     "name": "stdout",
     "output_type": "stream",
     "text": [
      "0\n",
      "2\n",
      "4\n",
      "6\n",
      "8\n",
      "10\n"
     ]
    }
   ],
   "source": [
    "for i in range(0,11,2):\n",
    "    print(i)"
   ]
  },
  {
   "cell_type": "code",
   "execution_count": 5,
   "id": "e050d539",
   "metadata": {},
   "outputs": [
    {
     "name": "stdout",
     "output_type": "stream",
     "text": [
      "0 2 4 6 8 10 12 14 16 18 20 22 24 26 28 30 32 34 36 38 40 42 44 46 48 50 52 54 56 58 60 62 64 66 68 70 72 74 76 78 80 82 84 86 88 90 92 94 96 98 \n",
      " even number count: 50\n"
     ]
    }
   ],
   "source": [
    "# print the even numbers in the range of 0 to 100 and print even number count\n",
    "c=0\n",
    "for i in range(0,100,2):\n",
    "    c=c+1\n",
    "    print(i,end=\" \")\n",
    "print(\"\\n even number count:\",c)"
   ]
  },
  {
   "cell_type": "code",
   "execution_count": 6,
   "id": "247356fb",
   "metadata": {},
   "outputs": [
    {
     "name": "stdout",
     "output_type": "stream",
     "text": [
      "0 1 2 3 4 5 6 7 8 9 10 11 12 13 14 15 16 17 18 19 20 21 22 23 24 25 26 27 28 29 30 31 32 33 34 35 36 37 38 39 40 41 42 43 44 45 46 47 48 49 50 51 52 53 54 55 56 57 58 59 60 61 62 63 64 65 66 67 68 69 70 71 72 73 74 75 76 77 78 79 80 81 82 83 84 85 86 87 88 89 90 91 92 93 94 95 96 97 98 99 100 even number count: 51\n"
     ]
    }
   ],
   "source": [
    "c=0\n",
    "for i in range(0,101):\n",
    "    if i%2==0:c=c+1\n",
    "    print(i,end=\" \")\n",
    "print(\"even number count:\",c)"
   ]
  },
  {
   "cell_type": "code",
   "execution_count": 7,
   "id": "80e7aafc",
   "metadata": {},
   "outputs": [
    {
     "name": "stdout",
     "output_type": "stream",
     "text": [
      "2000\n",
      "2020\n",
      "2000 2004 2008 2012 2016 2020 \n",
      "year count: 6\n"
     ]
    }
   ],
   "source": [
    "# print leap year from the range of 2000 to 2020\n",
    "x=int(input())\n",
    "y=int(input())\n",
    "c=0\n",
    "for i in range(x,y+1):\n",
    "    if (i%400==0) and (i%100!=0) or (i%4==0):\n",
    "        c=c+1\n",
    "        print(i,end=\" \")\n",
    "print(\"\\nyear count:\",c)"
   ]
  },
  {
   "cell_type": "code",
   "execution_count": 8,
   "id": "61e4e1da",
   "metadata": {},
   "outputs": [
    {
     "name": "stdout",
     "output_type": "stream",
     "text": [
      "5 * 1 = 5\n",
      "5 * 2 = 10\n",
      "5 * 3 = 15\n",
      "5 * 4 = 20\n",
      "5 * 5 = 25\n",
      "5 * 6 = 30\n",
      "5 * 7 = 35\n",
      "5 * 8 = 40\n",
      "5 * 9 = 45\n",
      "5 * 10 = 50\n"
     ]
    }
   ],
   "source": [
    "# print 5 table\n",
    "n=5\n",
    "for i in range(1,11):\n",
    "    print(n,\"*\",i,\"=\",n*i)"
   ]
  },
  {
   "cell_type": "code",
   "execution_count": 9,
   "id": "693e0665",
   "metadata": {},
   "outputs": [
    {
     "name": "stdout",
     "output_type": "stream",
     "text": [
      "10\n",
      "1 2 5 10 "
     ]
    }
   ],
   "source": [
    "# print factors of 5\n",
    "n=int(input())\n",
    "for i in range(1,n+1):\n",
    "    if (n%i==0):\n",
    "        print(i,end=\" \")"
   ]
  },
  {
   "cell_type": "code",
   "execution_count": 10,
   "id": "b1174672",
   "metadata": {},
   "outputs": [
    {
     "name": "stdout",
     "output_type": "stream",
     "text": [
      "aba\n",
      "292\n"
     ]
    }
   ],
   "source": [
    "# input=aba\n",
    "# 97+98+97=292\n",
    "# output=292\n",
    "a=input()\n",
    "s=0\n",
    "for i in a:\n",
    "    s=s+ord(i)\n",
    "print(s)"
   ]
  },
  {
   "cell_type": "code",
   "execution_count": 11,
   "id": "fdfaa754",
   "metadata": {},
   "outputs": [
    {
     "name": "stdout",
     "output_type": "stream",
     "text": [
      "ABA\n",
      "196\n"
     ]
    }
   ],
   "source": [
    "# input=aba\n",
    "# 97+98+97=292\n",
    "# output=292\n",
    "a=input()\n",
    "s=0\n",
    "for i in a:\n",
    "    s=s+ord(i)\n",
    "print(s)"
   ]
  },
  {
   "cell_type": "code",
   "execution_count": 13,
   "id": "41c7d7e3",
   "metadata": {},
   "outputs": [
    {
     "name": "stdout",
     "output_type": "stream",
     "text": [
      "7\n",
      "prime number\n"
     ]
    }
   ],
   "source": [
    "# check the given number is prime or not\n",
    "n=int(input())\n",
    "c=0\n",
    "for i in range(1,n+1):\n",
    "    if(n%i==0):\n",
    "        c=c+1\n",
    "if(c==2):\n",
    "    print(\"prime number\")\n",
    "else:\n",
    "    print(\"not prime number\")"
   ]
  },
  {
   "cell_type": "code",
   "execution_count": 32,
   "id": "6e6cda54",
   "metadata": {},
   "outputs": [
    {
     "name": "stdout",
     "output_type": "stream",
     "text": [
      "0\n",
      "10\n",
      "even number are: 0 2 4 6 8 10 \n",
      "odd number are: 1 3 5 7 9 "
     ]
    }
   ],
   "source": [
    "s=int(input())\n",
    "n=int(input())\n",
    "print(\"even number are:\",end=\" \")\n",
    "for i in range(s,n+1):\n",
    "    if i%2==0:\n",
    "        print(i,end=\" \")\n",
    "print(\"\\nodd number are:\",end=\" \")       \n",
    "for i in range(s,n+1):\n",
    "    if i%2!=0:\n",
    "        print(i,end=\" \")        "
   ]
  },
  {
   "cell_type": "code",
   "execution_count": null,
   "id": "e08a49ef",
   "metadata": {},
   "outputs": [],
   "source": []
  }
 ],
 "metadata": {
  "kernelspec": {
   "display_name": "Python 3 (ipykernel)",
   "language": "python",
   "name": "python3"
  },
  "language_info": {
   "codemirror_mode": {
    "name": "ipython",
    "version": 3
   },
   "file_extension": ".py",
   "mimetype": "text/x-python",
   "name": "python",
   "nbconvert_exporter": "python",
   "pygments_lexer": "ipython3",
   "version": "3.9.7"
  }
 },
 "nbformat": 4,
 "nbformat_minor": 5
}
