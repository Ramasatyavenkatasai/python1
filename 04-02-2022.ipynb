{
 "cells": [
  {
   "cell_type": "code",
   "execution_count": 1,
   "id": "1860a920",
   "metadata": {},
   "outputs": [
    {
     "data": {
      "text/plain": [
       "['__add__',\n",
       " '__class__',\n",
       " '__class_getitem__',\n",
       " '__contains__',\n",
       " '__delattr__',\n",
       " '__delitem__',\n",
       " '__dir__',\n",
       " '__doc__',\n",
       " '__eq__',\n",
       " '__format__',\n",
       " '__ge__',\n",
       " '__getattribute__',\n",
       " '__getitem__',\n",
       " '__gt__',\n",
       " '__hash__',\n",
       " '__iadd__',\n",
       " '__imul__',\n",
       " '__init__',\n",
       " '__init_subclass__',\n",
       " '__iter__',\n",
       " '__le__',\n",
       " '__len__',\n",
       " '__lt__',\n",
       " '__mul__',\n",
       " '__ne__',\n",
       " '__new__',\n",
       " '__reduce__',\n",
       " '__reduce_ex__',\n",
       " '__repr__',\n",
       " '__reversed__',\n",
       " '__rmul__',\n",
       " '__setattr__',\n",
       " '__setitem__',\n",
       " '__sizeof__',\n",
       " '__str__',\n",
       " '__subclasshook__',\n",
       " 'append',\n",
       " 'clear',\n",
       " 'copy',\n",
       " 'count',\n",
       " 'extend',\n",
       " 'index',\n",
       " 'insert',\n",
       " 'pop',\n",
       " 'remove',\n",
       " 'reverse',\n",
       " 'sort']"
      ]
     },
     "execution_count": 1,
     "metadata": {},
     "output_type": "execute_result"
    }
   ],
   "source": [
    "dir(list)"
   ]
  },
  {
   "cell_type": "code",
   "execution_count": 2,
   "id": "bb9c733a",
   "metadata": {},
   "outputs": [
    {
     "name": "stdout",
     "output_type": "stream",
     "text": [
      "[2, 5, 4, 8, 'apple']\n",
      "['ramu', 'ganga', 34, 87, 42, 14, 7]\n",
      "[64, 86, 23, 57, 38, 'kedhar']\n"
     ]
    }
   ],
   "source": [
    "li=[2,5,4,8,'apple']\n",
    "li1=['ramu','ganga',34,87,42,14,7]\n",
    "li2=[64,86,23,57,38,'kedhar']\n",
    "print(li)\n",
    "print(li1)\n",
    "print(li2)"
   ]
  },
  {
   "cell_type": "code",
   "execution_count": 3,
   "id": "8f900072",
   "metadata": {},
   "outputs": [
    {
     "name": "stdout",
     "output_type": "stream",
     "text": [
      "[2, 5, 4, 8, 'apple']\n"
     ]
    }
   ],
   "source": [
    "# append - we will add only single value\n",
    "# extend - we will add more than one value using extend \n",
    "print(li)"
   ]
  },
  {
   "cell_type": "code",
   "execution_count": 4,
   "id": "6f25a6e1",
   "metadata": {},
   "outputs": [
    {
     "data": {
      "text/plain": [
       "[2, 5, 4, 8, 'apple', 74]"
      ]
     },
     "execution_count": 4,
     "metadata": {},
     "output_type": "execute_result"
    }
   ],
   "source": [
    "li.append(74)\n",
    "li"
   ]
  },
  {
   "cell_type": "code",
   "execution_count": 5,
   "id": "b455f86f",
   "metadata": {},
   "outputs": [
    {
     "data": {
      "text/plain": [
       "[2, 5, 4, 8, 'apple', 74, 2, 6, 3]"
      ]
     },
     "execution_count": 5,
     "metadata": {},
     "output_type": "execute_result"
    }
   ],
   "source": [
    "li.extend([2,6,3])\n",
    "li"
   ]
  },
  {
   "cell_type": "code",
   "execution_count": 6,
   "id": "5c21d4fe",
   "metadata": {},
   "outputs": [
    {
     "name": "stdout",
     "output_type": "stream",
     "text": [
      "[1, 2, 3, 4, 5, 6, 7, 8, 9]\n"
     ]
    }
   ],
   "source": [
    "li=[1,2,3,4,5,6,7,8,9,0]\n",
    "li.pop()\n",
    "print(li)"
   ]
  },
  {
   "cell_type": "code",
   "execution_count": 7,
   "id": "01081322",
   "metadata": {},
   "outputs": [
    {
     "name": "stdout",
     "output_type": "stream",
     "text": [
      "[9, 8, 7, 6, 5, 4, 3, 2, 1]\n"
     ]
    }
   ],
   "source": [
    "li.reverse()\n",
    "print(li)"
   ]
  },
  {
   "cell_type": "code",
   "execution_count": 8,
   "id": "fc8bac5c",
   "metadata": {},
   "outputs": [],
   "source": [
    "li.sort()"
   ]
  },
  {
   "cell_type": "code",
   "execution_count": 9,
   "id": "867cc9ec",
   "metadata": {},
   "outputs": [
    {
     "data": {
      "text/plain": [
       "[1, 2, 3, 4, 5, 6, 7, 8, 9]"
      ]
     },
     "execution_count": 9,
     "metadata": {},
     "output_type": "execute_result"
    }
   ],
   "source": [
    "li"
   ]
  },
  {
   "cell_type": "code",
   "execution_count": 10,
   "id": "b8dbfc09",
   "metadata": {},
   "outputs": [
    {
     "name": "stdout",
     "output_type": "stream",
     "text": [
      "[]\n"
     ]
    }
   ],
   "source": [
    "li.clear()\n",
    "print(li)"
   ]
  },
  {
   "cell_type": "code",
   "execution_count": 11,
   "id": "513a2762",
   "metadata": {},
   "outputs": [
    {
     "data": {
      "text/plain": [
       "[]"
      ]
     },
     "execution_count": 11,
     "metadata": {},
     "output_type": "execute_result"
    }
   ],
   "source": [
    "li"
   ]
  },
  {
   "cell_type": "code",
   "execution_count": 12,
   "id": "13fd5dc2",
   "metadata": {},
   "outputs": [
    {
     "name": "stdout",
     "output_type": "stream",
     "text": [
      "[1, 2, 3, 'six', 4, 5, 6, 7, 8, 9, 0]\n"
     ]
    }
   ],
   "source": [
    "li=[1,2,3,4,5,6,7,8,9,0]\n",
    "li.insert(3,'six')\n",
    "print(li)"
   ]
  },
  {
   "cell_type": "code",
   "execution_count": 13,
   "id": "917750e2",
   "metadata": {},
   "outputs": [
    {
     "name": "stdout",
     "output_type": "stream",
     "text": [
      "[0, 2, 4, 6, 8, 10]\n",
      "[1, 3, 5, 7, 9]\n",
      "[0, 2, 4, 6, 8, 10, 1, 3, 5, 7, 9]\n"
     ]
    }
   ],
   "source": [
    "# 0-10 range\n",
    "# program\n",
    "# print even numbers\n",
    "# print odd numbers\n",
    "# print result (total numbers(0-10))\n",
    "even=[]\n",
    "odd=[]\n",
    "for i in range(0,11):\n",
    "    if i%2==0:\n",
    "        even.append(i)\n",
    "    else:\n",
    "        odd.append(i)\n",
    "print(even)\n",
    "print(odd)\n",
    "print(even+odd)"
   ]
  },
  {
   "cell_type": "code",
   "execution_count": 16,
   "id": "42d4be53",
   "metadata": {},
   "outputs": [
    {
     "name": "stdout",
     "output_type": "stream",
     "text": [
      "\n",
      " Largest number: 97\n"
     ]
    }
   ],
   "source": [
    "# print largest number of the list\n",
    "n=[46,78,97,56,34,38,25,65,81]\n",
    "high=0\n",
    "for i in n:\n",
    "    if i>=high:\n",
    "        high=i\n",
    "print(\"\\n Largest number:\",high)"
   ]
  },
  {
   "cell_type": "markdown",
   "id": "cb910c6a",
   "metadata": {},
   "source": [
    "### Tuple\n",
    "- Tuple represented with ()"
   ]
  },
  {
   "cell_type": "code",
   "execution_count": 17,
   "id": "741e98de",
   "metadata": {},
   "outputs": [],
   "source": [
    "t=(1,2,3,4,5,6,7,8,9)"
   ]
  },
  {
   "cell_type": "code",
   "execution_count": 18,
   "id": "a7d83200",
   "metadata": {},
   "outputs": [
    {
     "name": "stdout",
     "output_type": "stream",
     "text": [
      "<class 'tuple'>\n"
     ]
    }
   ],
   "source": [
    "print(type(t))"
   ]
  },
  {
   "cell_type": "code",
   "execution_count": 19,
   "id": "37ec4b93",
   "metadata": {},
   "outputs": [
    {
     "data": {
      "text/plain": [
       "['__add__',\n",
       " '__class__',\n",
       " '__class_getitem__',\n",
       " '__contains__',\n",
       " '__delattr__',\n",
       " '__dir__',\n",
       " '__doc__',\n",
       " '__eq__',\n",
       " '__format__',\n",
       " '__ge__',\n",
       " '__getattribute__',\n",
       " '__getitem__',\n",
       " '__getnewargs__',\n",
       " '__gt__',\n",
       " '__hash__',\n",
       " '__init__',\n",
       " '__init_subclass__',\n",
       " '__iter__',\n",
       " '__le__',\n",
       " '__len__',\n",
       " '__lt__',\n",
       " '__mul__',\n",
       " '__ne__',\n",
       " '__new__',\n",
       " '__reduce__',\n",
       " '__reduce_ex__',\n",
       " '__repr__',\n",
       " '__rmul__',\n",
       " '__setattr__',\n",
       " '__sizeof__',\n",
       " '__str__',\n",
       " '__subclasshook__',\n",
       " 'count',\n",
       " 'index']"
      ]
     },
     "execution_count": 19,
     "metadata": {},
     "output_type": "execute_result"
    }
   ],
   "source": [
    "dir(tuple)"
   ]
  },
  {
   "cell_type": "code",
   "execution_count": 22,
   "id": "a5acf88e",
   "metadata": {},
   "outputs": [
    {
     "data": {
      "text/plain": [
       "1"
      ]
     },
     "execution_count": 22,
     "metadata": {},
     "output_type": "execute_result"
    }
   ],
   "source": [
    "t.count(2)"
   ]
  },
  {
   "cell_type": "code",
   "execution_count": 23,
   "id": "059d64b9",
   "metadata": {},
   "outputs": [
    {
     "data": {
      "text/plain": [
       "1"
      ]
     },
     "execution_count": 23,
     "metadata": {},
     "output_type": "execute_result"
    }
   ],
   "source": [
    "t.index(2)"
   ]
  },
  {
   "cell_type": "markdown",
   "id": "d8fdcbe6",
   "metadata": {},
   "source": [
    "### Set \n",
    "- Set is represented with {}"
   ]
  },
  {
   "cell_type": "code",
   "execution_count": 25,
   "id": "c5a214d3",
   "metadata": {},
   "outputs": [
    {
     "name": "stdout",
     "output_type": "stream",
     "text": [
      "<class 'set'>\n"
     ]
    }
   ],
   "source": [
    "s={1,2,3,84,95,6,52,8,46,}\n",
    "print(type(s))"
   ]
  },
  {
   "cell_type": "code",
   "execution_count": 26,
   "id": "7f7d0e8e",
   "metadata": {},
   "outputs": [],
   "source": [
    "li=[5,34,76,89,24,45]\n",
    "t=(25,87,34,67,23)\n",
    "s={65,7,28,55,27,75}"
   ]
  },
  {
   "cell_type": "code",
   "execution_count": 27,
   "id": "22a86b08",
   "metadata": {},
   "outputs": [
    {
     "data": {
      "text/plain": [
       "list"
      ]
     },
     "execution_count": 27,
     "metadata": {},
     "output_type": "execute_result"
    }
   ],
   "source": [
    "type(li)"
   ]
  },
  {
   "cell_type": "code",
   "execution_count": 28,
   "id": "dc70715c",
   "metadata": {},
   "outputs": [
    {
     "data": {
      "text/plain": [
       "tuple"
      ]
     },
     "execution_count": 28,
     "metadata": {},
     "output_type": "execute_result"
    }
   ],
   "source": [
    "type(t)"
   ]
  },
  {
   "cell_type": "code",
   "execution_count": 29,
   "id": "5be77e5e",
   "metadata": {},
   "outputs": [
    {
     "data": {
      "text/plain": [
       "set"
      ]
     },
     "execution_count": 29,
     "metadata": {},
     "output_type": "execute_result"
    }
   ],
   "source": [
    "type(s)"
   ]
  },
  {
   "cell_type": "code",
   "execution_count": 30,
   "id": "8919120a",
   "metadata": {},
   "outputs": [
    {
     "name": "stdout",
     "output_type": "stream",
     "text": [
      "length of list: 6\n",
      "length of tuple: 5\n",
      "length of set: 6\n"
     ]
    }
   ],
   "source": [
    "print(\"length of list:\",len(li))\n",
    "print(\"length of tuple:\",len(t))\n",
    "print(\"length of set:\",len(s))"
   ]
  },
  {
   "cell_type": "code",
   "execution_count": 1,
   "id": "b8aeb345",
   "metadata": {},
   "outputs": [
    {
     "data": {
      "text/plain": [
       "['__and__',\n",
       " '__class__',\n",
       " '__class_getitem__',\n",
       " '__contains__',\n",
       " '__delattr__',\n",
       " '__dir__',\n",
       " '__doc__',\n",
       " '__eq__',\n",
       " '__format__',\n",
       " '__ge__',\n",
       " '__getattribute__',\n",
       " '__gt__',\n",
       " '__hash__',\n",
       " '__iand__',\n",
       " '__init__',\n",
       " '__init_subclass__',\n",
       " '__ior__',\n",
       " '__isub__',\n",
       " '__iter__',\n",
       " '__ixor__',\n",
       " '__le__',\n",
       " '__len__',\n",
       " '__lt__',\n",
       " '__ne__',\n",
       " '__new__',\n",
       " '__or__',\n",
       " '__rand__',\n",
       " '__reduce__',\n",
       " '__reduce_ex__',\n",
       " '__repr__',\n",
       " '__ror__',\n",
       " '__rsub__',\n",
       " '__rxor__',\n",
       " '__setattr__',\n",
       " '__sizeof__',\n",
       " '__str__',\n",
       " '__sub__',\n",
       " '__subclasshook__',\n",
       " '__xor__',\n",
       " 'add',\n",
       " 'clear',\n",
       " 'copy',\n",
       " 'difference',\n",
       " 'difference_update',\n",
       " 'discard',\n",
       " 'intersection',\n",
       " 'intersection_update',\n",
       " 'isdisjoint',\n",
       " 'issubset',\n",
       " 'issuperset',\n",
       " 'pop',\n",
       " 'remove',\n",
       " 'symmetric_difference',\n",
       " 'symmetric_difference_update',\n",
       " 'union',\n",
       " 'update']"
      ]
     },
     "execution_count": 1,
     "metadata": {},
     "output_type": "execute_result"
    }
   ],
   "source": [
    "dir(set)"
   ]
  },
  {
   "cell_type": "code",
   "execution_count": 2,
   "id": "dd1bcaef",
   "metadata": {},
   "outputs": [
    {
     "name": "stdout",
     "output_type": "stream",
     "text": [
      "{'dog', 'lion', 'peacock', 'fox', 'cat'}\n"
     ]
    }
   ],
   "source": [
    "s={'fox','cat','dog','peacock','lion'}\n",
    "print(s)"
   ]
  },
  {
   "cell_type": "code",
   "execution_count": 3,
   "id": "72253f0f",
   "metadata": {},
   "outputs": [],
   "source": [
    "s.add('tiger')"
   ]
  },
  {
   "cell_type": "code",
   "execution_count": 4,
   "id": "d3dca124",
   "metadata": {},
   "outputs": [
    {
     "name": "stdout",
     "output_type": "stream",
     "text": [
      "{'dog', 'tiger', 'lion', 'peacock', 'fox', 'cat'}\n"
     ]
    }
   ],
   "source": [
    "print(s)"
   ]
  },
  {
   "cell_type": "code",
   "execution_count": 5,
   "id": "1f27be0f",
   "metadata": {},
   "outputs": [
    {
     "name": "stdout",
     "output_type": "stream",
     "text": [
      "{1, 2, 3, 4, 5, 'peacock', 'fox', 'tiger', 'lion', 'cat', 'dog'}\n"
     ]
    }
   ],
   "source": [
    "# update - to add multiple elements at a time in a set\n",
    "s.update((1,2,3,4,5))\n",
    "print(s)"
   ]
  },
  {
   "cell_type": "markdown",
   "id": "38398629",
   "metadata": {},
   "source": [
    "### deletion\n",
    "- clear() - to clear the all data\n",
    "- remove() - it is used to remove a particular value\n",
    "- discard() - it is also used to discard a particular value\n",
    "- pop() - to delete random elements"
   ]
  },
  {
   "cell_type": "code",
   "execution_count": 7,
   "id": "b22953aa",
   "metadata": {},
   "outputs": [
    {
     "name": "stdout",
     "output_type": "stream",
     "text": [
      "{'dog', 'lion', 'peacock', 'fox', 'cat'}\n"
     ]
    }
   ],
   "source": [
    "s={'fox','cat','dog','peacock','lion'}\n",
    "print(s)"
   ]
  },
  {
   "cell_type": "code",
   "execution_count": 8,
   "id": "7daf6a4f",
   "metadata": {},
   "outputs": [],
   "source": [
    "s.remove(('cat'))"
   ]
  },
  {
   "cell_type": "code",
   "execution_count": 9,
   "id": "bd8c1107",
   "metadata": {},
   "outputs": [
    {
     "data": {
      "text/plain": [
       "{'dog', 'fox', 'lion', 'peacock'}"
      ]
     },
     "execution_count": 9,
     "metadata": {},
     "output_type": "execute_result"
    }
   ],
   "source": [
    "s"
   ]
  },
  {
   "cell_type": "code",
   "execution_count": 10,
   "id": "a182c8cf",
   "metadata": {},
   "outputs": [],
   "source": [
    "s.discard('lion')"
   ]
  },
  {
   "cell_type": "code",
   "execution_count": 11,
   "id": "c75d9287",
   "metadata": {},
   "outputs": [
    {
     "data": {
      "text/plain": [
       "{'dog', 'fox', 'peacock'}"
      ]
     },
     "execution_count": 11,
     "metadata": {},
     "output_type": "execute_result"
    }
   ],
   "source": [
    "s"
   ]
  },
  {
   "cell_type": "code",
   "execution_count": 12,
   "id": "29476703",
   "metadata": {},
   "outputs": [
    {
     "data": {
      "text/plain": [
       "'dog'"
      ]
     },
     "execution_count": 12,
     "metadata": {},
     "output_type": "execute_result"
    }
   ],
   "source": [
    "s.pop()"
   ]
  },
  {
   "cell_type": "code",
   "execution_count": 13,
   "id": "b74b6707",
   "metadata": {},
   "outputs": [
    {
     "data": {
      "text/plain": [
       "{'fox', 'peacock'}"
      ]
     },
     "execution_count": 13,
     "metadata": {},
     "output_type": "execute_result"
    }
   ],
   "source": [
    "s"
   ]
  },
  {
   "cell_type": "code",
   "execution_count": 14,
   "id": "07f9d296",
   "metadata": {},
   "outputs": [],
   "source": [
    "s.clear()"
   ]
  },
  {
   "cell_type": "code",
   "execution_count": 15,
   "id": "4b32dd7a",
   "metadata": {},
   "outputs": [
    {
     "data": {
      "text/plain": [
       "set()"
      ]
     },
     "execution_count": 15,
     "metadata": {},
     "output_type": "execute_result"
    }
   ],
   "source": [
    "s"
   ]
  },
  {
   "cell_type": "markdown",
   "id": "0aad982f",
   "metadata": {},
   "source": [
    "### Set operations\n",
    "- Union:combination of all elements from two sets\n",
    "- Intersection:common elements from two sets\n",
    "- Difference:all the remaining elements from a set after removing common elements\n",
    "- Symmetric-Difference:uncommon elements from both sets"
   ]
  },
  {
   "cell_type": "code",
   "execution_count": 17,
   "id": "187b88ef",
   "metadata": {},
   "outputs": [
    {
     "name": "stdout",
     "output_type": "stream",
     "text": [
      "{1, 2, 3, 4, 5, 6, 7, 8, 9, 10, 12}\n"
     ]
    }
   ],
   "source": [
    "a={5,4,8,3,9,1,6}\n",
    "b={8,10,7,2,5,1,9,12}\n",
    "print(a.union(b))"
   ]
  },
  {
   "cell_type": "code",
   "execution_count": 18,
   "id": "2f31f713",
   "metadata": {},
   "outputs": [
    {
     "name": "stdout",
     "output_type": "stream",
     "text": [
      "{1, 3, 4, 5, 6, 8, 9}\n"
     ]
    }
   ],
   "source": [
    "print(a)"
   ]
  },
  {
   "cell_type": "code",
   "execution_count": 19,
   "id": "1647cea8",
   "metadata": {},
   "outputs": [
    {
     "name": "stdout",
     "output_type": "stream",
     "text": [
      "{1, 2, 5, 7, 8, 9, 10, 12}\n"
     ]
    }
   ],
   "source": [
    "print(b)"
   ]
  },
  {
   "cell_type": "code",
   "execution_count": 20,
   "id": "e7df1c1e",
   "metadata": {},
   "outputs": [
    {
     "name": "stdout",
     "output_type": "stream",
     "text": [
      "{8, 1, 5, 9}\n"
     ]
    }
   ],
   "source": [
    "print(a.intersection(b))"
   ]
  },
  {
   "cell_type": "code",
   "execution_count": 21,
   "id": "972e154d",
   "metadata": {},
   "outputs": [
    {
     "name": "stdout",
     "output_type": "stream",
     "text": [
      "{3, 4, 6}\n"
     ]
    }
   ],
   "source": [
    "print(a.difference(b))"
   ]
  },
  {
   "cell_type": "code",
   "execution_count": 22,
   "id": "dd4c3b8b",
   "metadata": {},
   "outputs": [
    {
     "name": "stdout",
     "output_type": "stream",
     "text": [
      "{2, 10, 12, 7}\n"
     ]
    }
   ],
   "source": [
    "print(b.difference(a))"
   ]
  },
  {
   "cell_type": "code",
   "execution_count": 23,
   "id": "c1f1cfc1",
   "metadata": {},
   "outputs": [
    {
     "name": "stdout",
     "output_type": "stream",
     "text": [
      "{2, 3, 4, 6, 7, 10, 12}\n"
     ]
    }
   ],
   "source": [
    "print(a.symmetric_difference(b))"
   ]
  },
  {
   "cell_type": "code",
   "execution_count": 27,
   "id": "7bf435eb",
   "metadata": {},
   "outputs": [
    {
     "data": {
      "text/plain": [
       "{1, 3, 4, 7, 9}"
      ]
     },
     "execution_count": 27,
     "metadata": {},
     "output_type": "execute_result"
    }
   ],
   "source": [
    "a={3,7,4,1,9}\n",
    "a1=a.copy()\n",
    "a1"
   ]
  },
  {
   "cell_type": "code",
   "execution_count": 28,
   "id": "19b155a4",
   "metadata": {},
   "outputs": [
    {
     "name": "stdout",
     "output_type": "stream",
     "text": [
      "True\n",
      "True\n"
     ]
    }
   ],
   "source": [
    "m={6,2,7,1,8,5}\n",
    "n={2,5}\n",
    "print(n.issubset(m))\n",
    "print(m.issuperset(n))"
   ]
  },
  {
   "cell_type": "code",
   "execution_count": 29,
   "id": "312026de",
   "metadata": {},
   "outputs": [
    {
     "data": {
      "text/plain": [
       "True"
      ]
     },
     "execution_count": 29,
     "metadata": {},
     "output_type": "execute_result"
    }
   ],
   "source": [
    "l={5,8,6,2,7}\n",
    "p={1,4,3}\n",
    "l.isdisjoint(p)"
   ]
  },
  {
   "cell_type": "code",
   "execution_count": 33,
   "id": "2ac6e857",
   "metadata": {},
   "outputs": [
    {
     "name": "stdout",
     "output_type": "stream",
     "text": [
      "None\n"
     ]
    }
   ],
   "source": [
    "p={10,20,30,40}\n",
    "q={40,50,60,70}\n",
    "print(p.difference_update(q))"
   ]
  },
  {
   "cell_type": "code",
   "execution_count": 34,
   "id": "1a66ce14",
   "metadata": {},
   "outputs": [
    {
     "name": "stdout",
     "output_type": "stream",
     "text": [
      "{10, 20, 30}\n",
      "{40, 50, 60, 70}\n"
     ]
    }
   ],
   "source": [
    "print(p)\n",
    "print(q)"
   ]
  },
  {
   "cell_type": "markdown",
   "id": "0d281d79",
   "metadata": {},
   "source": [
    "### Dictionaries\n",
    "- dictionary is an unordered collection of items\n",
    "- each item of dictionary has a key and value pair:::{key:value}\n",
    "- dictionary is mutable and changable \n",
    "- in python dictionary written in {}\n",
    "- keys are not allow duplicate values \n",
    "- values are allowed to duplicate values\n",
    "- entire dictionary depanding upon key\n",
    "    - keys are unique in nature\n",
    "    - keys can be written in any data type \n",
    "- values may be similar to values,memtioned as any datatype\n",
    "- key and value together called as a item \n",
    "- in dictionary indexing is not supported"
   ]
  },
  {
   "cell_type": "code",
   "execution_count": 35,
   "id": "10cf6360",
   "metadata": {},
   "outputs": [
    {
     "name": "stdout",
     "output_type": "stream",
     "text": [
      "<class 'dict'>\n"
     ]
    }
   ],
   "source": [
    "d={}\n",
    "print(type(d))"
   ]
  },
  {
   "cell_type": "code",
   "execution_count": 36,
   "id": "c4555bf4",
   "metadata": {},
   "outputs": [
    {
     "data": {
      "text/plain": [
       "{54: 32, 78: 13, 27: 89, 43: 65}"
      ]
     },
     "execution_count": 36,
     "metadata": {},
     "output_type": "execute_result"
    }
   ],
   "source": [
    "d={54:32,78:13,27:89,43:65}\n",
    "d"
   ]
  },
  {
   "cell_type": "code",
   "execution_count": 37,
   "id": "233301c1",
   "metadata": {},
   "outputs": [
    {
     "name": "stdout",
     "output_type": "stream",
     "text": [
      "202\n",
      "78\n",
      "27\n",
      "4\n",
      "[27, 43, 54, 78]\n"
     ]
    }
   ],
   "source": [
    "print(sum(d))\n",
    "print(max(d))\n",
    "print(min(d))\n",
    "print(len(d))\n",
    "print(sorted(d))"
   ]
  },
  {
   "cell_type": "code",
   "execution_count": 38,
   "id": "62382f65",
   "metadata": {},
   "outputs": [
    {
     "name": "stdout",
     "output_type": "stream",
     "text": [
      "{63: 47, 26: 43, 78: 54, 13: 98, 36: 76, 34: {65, 27, 76}}\n"
     ]
    }
   ],
   "source": [
    "d1={63:47,26:43,78:54,13:98,36:76,34:{65,27,76}}\n",
    "print(d1)"
   ]
  },
  {
   "cell_type": "code",
   "execution_count": 39,
   "id": "96c9a40b",
   "metadata": {},
   "outputs": [
    {
     "data": {
      "text/plain": [
       "{27, 65, 76}"
      ]
     },
     "execution_count": 39,
     "metadata": {},
     "output_type": "execute_result"
    }
   ],
   "source": [
    "d1[34]"
   ]
  },
  {
   "cell_type": "code",
   "execution_count": 40,
   "id": "e37f9730",
   "metadata": {},
   "outputs": [
    {
     "data": {
      "text/plain": [
       "['__class__',\n",
       " '__class_getitem__',\n",
       " '__contains__',\n",
       " '__delattr__',\n",
       " '__delitem__',\n",
       " '__dir__',\n",
       " '__doc__',\n",
       " '__eq__',\n",
       " '__format__',\n",
       " '__ge__',\n",
       " '__getattribute__',\n",
       " '__getitem__',\n",
       " '__gt__',\n",
       " '__hash__',\n",
       " '__init__',\n",
       " '__init_subclass__',\n",
       " '__ior__',\n",
       " '__iter__',\n",
       " '__le__',\n",
       " '__len__',\n",
       " '__lt__',\n",
       " '__ne__',\n",
       " '__new__',\n",
       " '__or__',\n",
       " '__reduce__',\n",
       " '__reduce_ex__',\n",
       " '__repr__',\n",
       " '__reversed__',\n",
       " '__ror__',\n",
       " '__setattr__',\n",
       " '__setitem__',\n",
       " '__sizeof__',\n",
       " '__str__',\n",
       " '__subclasshook__',\n",
       " 'clear',\n",
       " 'copy',\n",
       " 'fromkeys',\n",
       " 'get',\n",
       " 'items',\n",
       " 'keys',\n",
       " 'pop',\n",
       " 'popitem',\n",
       " 'setdefault',\n",
       " 'update',\n",
       " 'values']"
      ]
     },
     "execution_count": 40,
     "metadata": {},
     "output_type": "execute_result"
    }
   ],
   "source": [
    "dir(dict)"
   ]
  },
  {
   "cell_type": "code",
   "execution_count": 43,
   "id": "cb539f2b",
   "metadata": {},
   "outputs": [
    {
     "data": {
      "text/plain": [
       "47"
      ]
     },
     "execution_count": 43,
     "metadata": {},
     "output_type": "execute_result"
    }
   ],
   "source": [
    "d1[63]"
   ]
  },
  {
   "cell_type": "code",
   "execution_count": 44,
   "id": "b627a377",
   "metadata": {},
   "outputs": [
    {
     "data": {
      "text/plain": [
       "dict_keys([63, 26, 78, 13, 36, 34])"
      ]
     },
     "execution_count": 44,
     "metadata": {},
     "output_type": "execute_result"
    }
   ],
   "source": [
    "d1.keys()"
   ]
  },
  {
   "cell_type": "code",
   "execution_count": 45,
   "id": "64e2b0e6",
   "metadata": {},
   "outputs": [
    {
     "data": {
      "text/plain": [
       "dict_values([47, 43, 54, 98, 76, {65, 27, 76}])"
      ]
     },
     "execution_count": 45,
     "metadata": {},
     "output_type": "execute_result"
    }
   ],
   "source": [
    "d1.values()"
   ]
  },
  {
   "cell_type": "code",
   "execution_count": 46,
   "id": "330a7d24",
   "metadata": {},
   "outputs": [
    {
     "data": {
      "text/plain": [
       "{63: 47,\n",
       " 26: 43,\n",
       " 78: 54,\n",
       " 13: 98,\n",
       " 36: 76,\n",
       " 34: {27, 65, 76},\n",
       " 'python': 'workshop'}"
      ]
     },
     "execution_count": 46,
     "metadata": {},
     "output_type": "execute_result"
    }
   ],
   "source": [
    "d1['python']=\"workshop\"\n",
    "d1"
   ]
  },
  {
   "cell_type": "code",
   "execution_count": 47,
   "id": "f916202e",
   "metadata": {},
   "outputs": [
    {
     "data": {
      "text/plain": [
       "76"
      ]
     },
     "execution_count": 47,
     "metadata": {},
     "output_type": "execute_result"
    }
   ],
   "source": [
    "d1.pop(36)"
   ]
  },
  {
   "cell_type": "code",
   "execution_count": 48,
   "id": "d146e6a1",
   "metadata": {},
   "outputs": [
    {
     "data": {
      "text/plain": [
       "{63: 47, 26: 43, 78: 54, 13: 98, 34: {27, 65, 76}, 'python': 'workshop'}"
      ]
     },
     "execution_count": 48,
     "metadata": {},
     "output_type": "execute_result"
    }
   ],
   "source": [
    "d1"
   ]
  },
  {
   "cell_type": "code",
   "execution_count": 49,
   "id": "14bdd640",
   "metadata": {},
   "outputs": [
    {
     "data": {
      "text/plain": [
       "('python', 'workshop')"
      ]
     },
     "execution_count": 49,
     "metadata": {},
     "output_type": "execute_result"
    }
   ],
   "source": [
    "d1.popitem()"
   ]
  },
  {
   "cell_type": "code",
   "execution_count": 50,
   "id": "c4861697",
   "metadata": {},
   "outputs": [
    {
     "data": {
      "text/plain": [
       "{63: 47, 26: 43, 78: 54, 13: 98, 34: {27, 65, 76}}"
      ]
     },
     "execution_count": 50,
     "metadata": {},
     "output_type": "execute_result"
    }
   ],
   "source": [
    "d1"
   ]
  },
  {
   "cell_type": "code",
   "execution_count": 52,
   "id": "980e2e03",
   "metadata": {},
   "outputs": [
    {
     "data": {
      "text/plain": [
       "dict_items([(63, 47), (26, 43), (78, 54), (13, 98), (34, {65, 27, 76})])"
      ]
     },
     "execution_count": 52,
     "metadata": {},
     "output_type": "execute_result"
    }
   ],
   "source": [
    "d1.items()"
   ]
  },
  {
   "cell_type": "code",
   "execution_count": 53,
   "id": "a676a497",
   "metadata": {},
   "outputs": [
    {
     "name": "stdout",
     "output_type": "stream",
     "text": [
      "{63: 47, 26: 43, 78: 54, 13: 98, 34: {65, 27, 76}}\n",
      "{63: 47, 26: 43, 78: 54, 13: 98, 34: {65, 27, 76}}\n"
     ]
    }
   ],
   "source": [
    "d2=d1.copy()\n",
    "print(d2)\n",
    "print(d1)"
   ]
  },
  {
   "cell_type": "code",
   "execution_count": 54,
   "id": "239a12a0",
   "metadata": {},
   "outputs": [
    {
     "data": {
      "text/plain": [
       "{'w': None, 'o': None, 'r': None, 'k': None}"
      ]
     },
     "execution_count": 54,
     "metadata": {},
     "output_type": "execute_result"
    }
   ],
   "source": [
    "d2.fromkeys(\"work\")"
   ]
  },
  {
   "cell_type": "code",
   "execution_count": 55,
   "id": "cd890e37",
   "metadata": {},
   "outputs": [
    {
     "data": {
      "text/plain": [
       "{'p': 54, 'y': 54, 't': 54, 'h': 54, 'o': 54, 'n': 54}"
      ]
     },
     "execution_count": 55,
     "metadata": {},
     "output_type": "execute_result"
    }
   ],
   "source": [
    "d2.fromkeys(\"python\",54)"
   ]
  },
  {
   "cell_type": "code",
   "execution_count": 60,
   "id": "17cd3fb2",
   "metadata": {},
   "outputs": [
    {
     "name": "stdout",
     "output_type": "stream",
     "text": [
      "{63: 47, 26: 43, 78: 54, 13: 98, 34: {65, 27, 76}, 'ramu': 'dict'}\n"
     ]
    }
   ],
   "source": [
    "d2.update({'ramu':'dict'})\n",
    "print(d2)"
   ]
  },
  {
   "cell_type": "code",
   "execution_count": null,
   "id": "556b17af",
   "metadata": {},
   "outputs": [],
   "source": []
  }
 ],
 "metadata": {
  "kernelspec": {
   "display_name": "Python 3 (ipykernel)",
   "language": "python",
   "name": "python3"
  },
  "language_info": {
   "codemirror_mode": {
    "name": "ipython",
    "version": 3
   },
   "file_extension": ".py",
   "mimetype": "text/x-python",
   "name": "python",
   "nbconvert_exporter": "python",
   "pygments_lexer": "ipython3",
   "version": "3.9.7"
  }
 },
 "nbformat": 4,
 "nbformat_minor": 5
}
