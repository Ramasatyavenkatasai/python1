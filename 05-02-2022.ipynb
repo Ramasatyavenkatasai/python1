{
 "cells": [
  {
   "cell_type": "markdown",
   "id": "3480808f",
   "metadata": {},
   "source": [
    "### File handling\n",
    "- File:file is a named location or memory used to store relative information\n",
    "    - .csv,.py,.html,.txt,.ipynb,.mp4\n",
    "- Filehandling:it allows user to handle files\n",
    "- compared to other languages programming in file handling is easy in python\n",
    "- Read and Write files.along with the otherfiles handle options to work on fil;e\n",
    "- Steps of the handling \n",
    "    - open file\n",
    "    - doing operation \n",
    "    - close a file\n",
    "- open function()\n",
    "    - we use open fun() in python to open the file in read and write operations\n",
    "    - to return a object we use in open fun() along 2 arguments\n",
    "    - syntax::open(filename.mode)\n",
    "- modes are three types to open a file\n",
    "    - read() --'r'--> to read a file\n",
    "        - file_variable.read(size)\n",
    "    - write() --'w'--> to write a file\n",
    "        - file_variable.write(data)\n",
    "    - append() --'a'--> to add a information to a file\n",
    "        - file_variable.append(data)\n",
    "- by default the file will open as 'r' mode\n",
    "- close()\n",
    "    - it is used to close a file\n",
    "    - every time you have to close a file at the end of the operation otherwise the changes will not be applicable"
   ]
  },
  {
   "cell_type": "code",
   "execution_count": 1,
   "id": "d204a481",
   "metadata": {},
   "outputs": [
    {
     "name": "stdout",
     "output_type": "stream",
     "text": [
      "successfully opened\n"
     ]
    }
   ],
   "source": [
    "f=open(\"data.txt\",'r')\n",
    "if f:\n",
    "    print(\"successfully opened\")\n",
    "else:\n",
    "    print(\"failed\")"
   ]
  },
  {
   "cell_type": "code",
   "execution_count": 2,
   "id": "501ca619",
   "metadata": {},
   "outputs": [
    {
     "name": "stdout",
     "output_type": "stream",
     "text": [
      "gudbyevasavi engineering college\n"
     ]
    }
   ],
   "source": [
    "# read\n",
    "f=open(\"data.txt\")\n",
    "print(f.read())\n",
    "f.close()    "
   ]
  },
  {
   "cell_type": "code",
   "execution_count": 3,
   "id": "74b4513b",
   "metadata": {},
   "outputs": [
    {
     "name": "stdout",
     "output_type": "stream",
     "text": [
      "18\n"
     ]
    }
   ],
   "source": [
    "# using with keyword automatically file will be close\n",
    "with open (\"data.txt\",'w') as f:\n",
    "    jk=f.write(\"python programming\")\n",
    "    print(jk)\n",
    "    f.close"
   ]
  },
  {
   "cell_type": "code",
   "execution_count": 4,
   "id": "5a98ca6d",
   "metadata": {},
   "outputs": [
    {
     "name": "stdout",
     "output_type": "stream",
     "text": [
      "pytho\n"
     ]
    }
   ],
   "source": [
    "with open (\"data.txt\") as f:\n",
    "    jk=f.read(5)\n",
    "    print(jk)"
   ]
  },
  {
   "cell_type": "markdown",
   "id": "ff502058",
   "metadata": {},
   "source": [
    "### File handling methods\n",
    "- open()\n",
    "- read()\n",
    "- write()\n",
    "- close()\n",
    "- readline()\n",
    "- readlines()\n",
    "- seek()\n",
    "- tell()\n",
    "- Types of modes:\n",
    "    - read()--'r'\n",
    "    - write()--'w'\n",
    "    - append()--'a'"
   ]
  },
  {
   "cell_type": "code",
   "execution_count": 5,
   "id": "a9b6079c",
   "metadata": {},
   "outputs": [],
   "source": [
    "f=open(\"data.txt\")"
   ]
  },
  {
   "cell_type": "code",
   "execution_count": 6,
   "id": "51b877df",
   "metadata": {},
   "outputs": [],
   "source": [
    "info=f.read(6)"
   ]
  },
  {
   "cell_type": "code",
   "execution_count": 7,
   "id": "601d072f",
   "metadata": {},
   "outputs": [
    {
     "name": "stdout",
     "output_type": "stream",
     "text": [
      "python\n"
     ]
    }
   ],
   "source": [
    "print(info)"
   ]
  },
  {
   "cell_type": "code",
   "execution_count": 8,
   "id": "dc54ec1b",
   "metadata": {},
   "outputs": [
    {
     "name": "stdout",
     "output_type": "stream",
     "text": [
      " programming\n"
     ]
    }
   ],
   "source": [
    "d=f.read()\n",
    "print(d)"
   ]
  },
  {
   "cell_type": "code",
   "execution_count": 9,
   "id": "303b573f",
   "metadata": {},
   "outputs": [],
   "source": [
    "f.close()"
   ]
  },
  {
   "cell_type": "code",
   "execution_count": 10,
   "id": "cd545562",
   "metadata": {},
   "outputs": [],
   "source": [
    "# write mode()\n",
    "# it is used to write something in file \n",
    "# if file is not their directory,the file will be created and data will be written in that file"
   ]
  },
  {
   "cell_type": "code",
   "execution_count": 15,
   "id": "8caa0434",
   "metadata": {},
   "outputs": [],
   "source": [
    "fo=open('data.txt','w')"
   ]
  },
  {
   "cell_type": "code",
   "execution_count": 16,
   "id": "79a64a5b",
   "metadata": {},
   "outputs": [
    {
     "data": {
      "text/plain": [
       "6"
      ]
     },
     "execution_count": 16,
     "metadata": {},
     "output_type": "execute_result"
    }
   ],
   "source": [
    "fo.write(\"gudbye\")"
   ]
  },
  {
   "cell_type": "code",
   "execution_count": 17,
   "id": "e7725f44",
   "metadata": {},
   "outputs": [
    {
     "data": {
      "text/plain": [
       "27"
      ]
     },
     "execution_count": 17,
     "metadata": {},
     "output_type": "execute_result"
    }
   ],
   "source": [
    "f=open(\"data.txt\",'a')\n",
    "fo.write(\" vasavi engineering college\")"
   ]
  },
  {
   "cell_type": "code",
   "execution_count": 18,
   "id": "c1a75da6",
   "metadata": {},
   "outputs": [
    {
     "name": "stdout",
     "output_type": "stream",
     "text": [
      "<_io.TextIOWrapper name='data.txt' mode='a' encoding='cp1252'>\n"
     ]
    }
   ],
   "source": [
    "print(f)"
   ]
  },
  {
   "cell_type": "code",
   "execution_count": 19,
   "id": "d28da1a2",
   "metadata": {},
   "outputs": [
    {
     "name": "stdout",
     "output_type": "stream",
     "text": [
      "gudbye vasavi engineering college\n",
      "\n"
     ]
    }
   ],
   "source": [
    "f=open(\"data.txt\",'r')\n",
    "s=f.readline()\n",
    "print(s)\n",
    "t=f.readline()\n",
    "print(t)"
   ]
  },
  {
   "cell_type": "code",
   "execution_count": 20,
   "id": "4f95c238",
   "metadata": {},
   "outputs": [
    {
     "name": "stdout",
     "output_type": "stream",
     "text": [
      "number of lines in the file: 1\n"
     ]
    }
   ],
   "source": [
    "with open (\"data.txt\",'r') as f:\n",
    "    no_of_lines=f.readlines()\n",
    "    print(\"number of lines in the file:\",len(no_of_lines))"
   ]
  },
  {
   "cell_type": "code",
   "execution_count": 21,
   "id": "d5f708f9",
   "metadata": {},
   "outputs": [
    {
     "name": "stdout",
     "output_type": "stream",
     "text": [
      "number of words in the file: 4\n"
     ]
    }
   ],
   "source": [
    "words=0\n",
    "for line in no_of_lines:\n",
    "    words_list=line.split()\n",
    "    words+=len(words_list)\n",
    "print(\"number of words in the file:\",words)"
   ]
  },
  {
   "cell_type": "markdown",
   "id": "f2ad5210",
   "metadata": {},
   "source": [
    "### Functions\n",
    "- Builtin functions\n",
    "    - already existed\n",
    "    - ex:print(),input(),len(),int()\n",
    "- User defined functions\n",
    "    - which are defined by the user\n",
    "    - ex:any user can create the functions"
   ]
  },
  {
   "cell_type": "code",
   "execution_count": null,
   "id": "d2367348",
   "metadata": {},
   "outputs": [],
   "source": [
    "syntax for functions::\n",
    "def function_name(arguments): # function definition\n",
    "    statements \n",
    "    statements\n",
    "function_name(parameters) # function calling"
   ]
  },
  {
   "cell_type": "code",
   "execution_count": 22,
   "id": "09d41345",
   "metadata": {},
   "outputs": [
    {
     "name": "stdout",
     "output_type": "stream",
     "text": [
      "75\n",
      "odd number\n"
     ]
    }
   ],
   "source": [
    "# even or odd\n",
    "n=int(input())\n",
    "if n%2==0:\n",
    "    print(\"even number\")\n",
    "else:\n",
    "    print(\"odd number\")"
   ]
  },
  {
   "cell_type": "code",
   "execution_count": 25,
   "id": "ac28ed68",
   "metadata": {},
   "outputs": [
    {
     "name": "stdout",
     "output_type": "stream",
     "text": [
      "46\n",
      "even number\n"
     ]
    }
   ],
   "source": [
    "def even_odd(x):\n",
    "    if x%2==0:\n",
    "        print(\"even number\")\n",
    "    else:\n",
    "        print(\"odd number\")\n",
    "even_odd(int(input()))\n",
    "        "
   ]
  },
  {
   "cell_type": "code",
   "execution_count": 29,
   "id": "1ef1eb4d",
   "metadata": {},
   "outputs": [
    {
     "name": "stdout",
     "output_type": "stream",
     "text": [
      "97\n",
      "prime number\n"
     ]
    }
   ],
   "source": [
    "# prime number\n",
    "def prime_check(n):\n",
    "    count=0\n",
    "    for i in range(1,n+1):\n",
    "        if n%i==0:\n",
    "            count+=1\n",
    "    if count==2:\n",
    "        print(\"prime number\")\n",
    "    else:\n",
    "        print(\"not prime number\")\n",
    "prime_check(int(input()))"
   ]
  },
  {
   "cell_type": "code",
   "execution_count": 30,
   "id": "652e2845",
   "metadata": {},
   "outputs": [
    {
     "name": "stdout",
     "output_type": "stream",
     "text": [
      "86\n"
     ]
    },
    {
     "data": {
      "text/plain": [
       "False"
      ]
     },
     "execution_count": 30,
     "metadata": {},
     "output_type": "execute_result"
    }
   ],
   "source": [
    "def is_prime(n):\n",
    "    for i in range(1,n+1):\n",
    "        if n%i==0:\n",
    "            return False\n",
    "        return True\n",
    "is_prime(int(input()))"
   ]
  },
  {
   "cell_type": "code",
   "execution_count": 37,
   "id": "ed2b369b",
   "metadata": {},
   "outputs": [
    {
     "name": "stdout",
     "output_type": "stream",
     "text": [
      "6\n",
      "sum of the factors: 6\n",
      "perfect number\n"
     ]
    }
   ],
   "source": [
    "# perfect number:given number is equals to the sum of the factors of that number\n",
    "#6-->1+2+3=6(perfect number)\n",
    "#8-->1+2+4=7(not a perfect number)\n",
    "def perfect_num(a):\n",
    "    fact_sum=0\n",
    "    for i in range(1,a):\n",
    "        if a%i==0:\n",
    "            fact_sum=fact_sum+i\n",
    "    print(\"sum of the factors:\",fact_sum)\n",
    "    if a==fact_sum:\n",
    "        print(\"perfect number\")\n",
    "    else:\n",
    "        print(\"not a perfect number\")\n",
    "perfect_num(int(input()))"
   ]
  },
  {
   "cell_type": "markdown",
   "id": "f2a28b69",
   "metadata": {},
   "source": [
    "### Comprehensions\n",
    "- it is a program of creating new sequences from existing sequence\n",
    "- advantages::less code,easy to understand\n",
    "- types:\n",
    "    - list comprehension\n",
    "    - dictionary comprehension\n",
    "    - set comprehension\n",
    "    - generator comprehension\n",
    "- List comprehension\n",
    "    - easy way to create,more efficent and also run faster\n",
    "    - syntax::[expression for item in list if condition]"
   ]
  },
  {
   "cell_type": "code",
   "execution_count": 38,
   "id": "5349c669",
   "metadata": {},
   "outputs": [
    {
     "name": "stdout",
     "output_type": "stream",
     "text": [
      "1 2 3 4 5 6 7 8 9 10 "
     ]
    }
   ],
   "source": [
    "for i in range(1,11):\n",
    "    print(i,end=\" \")"
   ]
  },
  {
   "cell_type": "code",
   "execution_count": 39,
   "id": "758af329",
   "metadata": {},
   "outputs": [
    {
     "name": "stdout",
     "output_type": "stream",
     "text": [
      "[1, 2, 3, 4, 5, 6, 7, 8, 9, 10]\n"
     ]
    }
   ],
   "source": [
    "li=[]\n",
    "for i in range(1,11):\n",
    "    li.append(i)\n",
    "print(li)"
   ]
  },
  {
   "cell_type": "code",
   "execution_count": 41,
   "id": "80e53f0e",
   "metadata": {},
   "outputs": [
    {
     "name": "stdout",
     "output_type": "stream",
     "text": [
      "[5, 10, 15, 20, 25, 30, 35, 40, 45, 50]\n"
     ]
    }
   ],
   "source": [
    "li=[i*5 for i in range(1,11)] # list comprehension\n",
    "print(li)"
   ]
  },
  {
   "cell_type": "code",
   "execution_count": 42,
   "id": "ea9a0ae0",
   "metadata": {},
   "outputs": [
    {
     "name": "stdout",
     "output_type": "stream",
     "text": [
      "[2, 4, 6, 8, 10]\n"
     ]
    }
   ],
   "source": [
    "li=[i for i in range(1,11) if(i%2==0)] # list comprehension\n",
    "print(li)"
   ]
  },
  {
   "cell_type": "code",
   "execution_count": 46,
   "id": "112f2bd2",
   "metadata": {},
   "outputs": [
    {
     "name": "stdout",
     "output_type": "stream",
     "text": [
      "['odd', 2, 'odd', 4, 'odd', 6, 'odd', 8, 'odd', 10]\n"
     ]
    }
   ],
   "source": [
    "li=[i if i%2==0 else \"odd\" for i in range(1,11)] # list comprehension\n",
    "print(li)"
   ]
  },
  {
   "cell_type": "code",
   "execution_count": 47,
   "id": "d77669c8",
   "metadata": {},
   "outputs": [
    {
     "name": "stdout",
     "output_type": "stream",
     "text": [
      "[(1, 'odd'), (2, 'even'), (3, 'odd'), (4, 'even'), (5, 'odd'), (6, 'even'), (7, 'odd'), (8, 'even'), (9, 'odd'), (10, 'even')]\n"
     ]
    }
   ],
   "source": [
    "print([(i,\"even\")if i%2==0 else (i,\"odd\") for i in range(1,11)]) # list comprehension"
   ]
  },
  {
   "cell_type": "code",
   "execution_count": 48,
   "id": "1105cfbf",
   "metadata": {},
   "outputs": [
    {
     "name": "stdout",
     "output_type": "stream",
     "text": [
      "['stay', 'home', 'stay', 'safe']\n"
     ]
    }
   ],
   "source": [
    "a=['stay home','stay safe'] #list\n",
    "li=[]\n",
    "for i in a:\n",
    "    for j in i.split():\n",
    "        li.append(j)\n",
    "print(li)"
   ]
  },
  {
   "cell_type": "code",
   "execution_count": 49,
   "id": "425fee43",
   "metadata": {},
   "outputs": [
    {
     "name": "stdout",
     "output_type": "stream",
     "text": [
      "['stay', 'home', 'stay', 'safe']\n"
     ]
    }
   ],
   "source": [
    "x=[j for i in a for j in i.split()]\n",
    "print(x)"
   ]
  },
  {
   "cell_type": "code",
   "execution_count": 51,
   "id": "19ef8445",
   "metadata": {},
   "outputs": [
    {
     "data": {
      "text/plain": [
       "[[1, 2, 3, 4, 5, 6, 7, 8, 9, 10],\n",
       " [2, 4, 6, 8, 10, 12, 14, 16, 18, 20],\n",
       " [3, 6, 9, 12, 15, 18, 21, 24, 27, 30],\n",
       " [4, 8, 12, 16, 20, 24, 28, 32, 36, 40],\n",
       " [5, 10, 15, 20, 25, 30, 35, 40, 45, 50],\n",
       " [6, 12, 18, 24, 30, 36, 42, 48, 54, 60],\n",
       " [7, 14, 21, 28, 35, 42, 49, 56, 63, 70],\n",
       " [8, 16, 24, 32, 40, 48, 56, 64, 72, 80],\n",
       " [9, 18, 27, 36, 45, 54, 63, 72, 81, 90],\n",
       " [10, 20, 30, 40, 50, 60, 70, 80, 90, 100]]"
      ]
     },
     "execution_count": 51,
     "metadata": {},
     "output_type": "execute_result"
    }
   ],
   "source": [
    "x=[[i*j for i in range(1,11)] for j in range(1,11)]\n",
    "x"
   ]
  },
  {
   "cell_type": "code",
   "execution_count": 52,
   "id": "d4c22f44",
   "metadata": {},
   "outputs": [
    {
     "name": "stdout",
     "output_type": "stream",
     "text": [
      "{'N130057': 'ramu', 'N130038': 'ganga', 'N130039': 'manikanta'}\n"
     ]
    }
   ],
   "source": [
    "# Dictionary comprehension --->key,values\n",
    "id_no=['N130057','N130038','N130039']\n",
    "names=['ramu','ganga','manikanta']\n",
    "c={}\n",
    "for (key,value) in zip(id_no,names):\n",
    "    c[key]=value\n",
    "print(c)"
   ]
  },
  {
   "cell_type": "code",
   "execution_count": 53,
   "id": "b9567563",
   "metadata": {},
   "outputs": [
    {
     "data": {
      "text/plain": [
       "{1: 2, 2: 4, 3: 6, 4: 8, 5: 10, 6: 12, 7: 14, 8: 16, 9: 18, 10: 20}"
      ]
     },
     "execution_count": 53,
     "metadata": {},
     "output_type": "execute_result"
    }
   ],
   "source": [
    "d={i:i*2 for i in range(1,11)}\n",
    "d"
   ]
  },
  {
   "cell_type": "code",
   "execution_count": 56,
   "id": "9498a0b5",
   "metadata": {},
   "outputs": [
    {
     "data": {
      "text/plain": [
       "{'o': 3, 'p': 3, 'i': 1, 'c': 2}"
      ]
     },
     "execution_count": 56,
     "metadata": {},
     "output_type": "execute_result"
    }
   ],
   "source": [
    "li=['o','o','o','p','p','p','i','c','c']\n",
    "{i:li.count(i) for i in li}"
   ]
  },
  {
   "cell_type": "code",
   "execution_count": 58,
   "id": "97cd177e",
   "metadata": {},
   "outputs": [
    {
     "data": {
      "text/plain": [
       "{0: 'A',\n",
       " 1: 'B',\n",
       " 2: 'C',\n",
       " 3: 'D',\n",
       " 4: 'E',\n",
       " 5: 'F',\n",
       " 6: 'G',\n",
       " 7: 'H',\n",
       " 8: 'I',\n",
       " 9: 'J',\n",
       " 10: 'K'}"
      ]
     },
     "execution_count": 58,
     "metadata": {},
     "output_type": "execute_result"
    }
   ],
   "source": [
    "# {0:A 1:B 2:C 3:D}\n",
    "d={i:chr(65+i) for i in range(11)}\n",
    "d"
   ]
  },
  {
   "cell_type": "code",
   "execution_count": 59,
   "id": "78d2685f",
   "metadata": {},
   "outputs": [
    {
     "data": {
      "text/plain": [
       "{'manikanta': 9, 'gangadhar': 9, 'ramu': 4}"
      ]
     },
     "execution_count": 59,
     "metadata": {},
     "output_type": "execute_result"
    }
   ],
   "source": [
    "names=['manikanta','gangadhar','ramu']\n",
    "d={i:len(i) for i in names}\n",
    "d"
   ]
  },
  {
   "cell_type": "code",
   "execution_count": 62,
   "id": "86cd2613",
   "metadata": {},
   "outputs": [
    {
     "data": {
      "text/plain": [
       "{6, 12, 18, 24, 30}"
      ]
     },
     "execution_count": 62,
     "metadata": {},
     "output_type": "execute_result"
    }
   ],
   "source": [
    "# Set comprehension\n",
    "s={i*3 for i in range(1,11) if i%2==0}\n",
    "s"
   ]
  },
  {
   "cell_type": "code",
   "execution_count": 63,
   "id": "84166422",
   "metadata": {},
   "outputs": [
    {
     "data": {
      "text/plain": [
       "{6, 1638}"
      ]
     },
     "execution_count": 63,
     "metadata": {},
     "output_type": "execute_result"
    }
   ],
   "source": [
    "s={i*3 for i in [1,2,5,3,9,79,546] if i%2==0}\n",
    "s"
   ]
  },
  {
   "cell_type": "code",
   "execution_count": 64,
   "id": "1af22e5e",
   "metadata": {},
   "outputs": [
    {
     "data": {
      "text/plain": [
       "{0, 3, 6, 9, 12}"
      ]
     },
     "execution_count": 64,
     "metadata": {},
     "output_type": "execute_result"
    }
   ],
   "source": [
    "# Generator comprehension\n",
    "g={i*3 for i in range(5)}\n",
    "g"
   ]
  },
  {
   "cell_type": "markdown",
   "id": "458c450c",
   "metadata": {},
   "source": [
    "### Iteretors and Generators \n",
    "- Iterator:iter is an object in python.it contains no elements\n",
    "- 2 methods\n",
    "    - Iter\n",
    "    - Next\n",
    "- list,set,tuple,dict these all are iterable objects"
   ]
  },
  {
   "cell_type": "code",
   "execution_count": 65,
   "id": "0508e6cb",
   "metadata": {},
   "outputs": [
    {
     "name": "stdout",
     "output_type": "stream",
     "text": [
      "p\n",
      "y\n",
      "t\n",
      "h\n",
      "o\n",
      "n\n"
     ]
    }
   ],
   "source": [
    "a=\"python\"\n",
    "for i in a:\n",
    "    print(i)"
   ]
  },
  {
   "cell_type": "code",
   "execution_count": 66,
   "id": "2b19f87c",
   "metadata": {},
   "outputs": [
    {
     "name": "stdout",
     "output_type": "stream",
     "text": [
      "<str_iterator object at 0x000000B671777850>\n",
      "p\n",
      "y\n",
      "t\n"
     ]
    }
   ],
   "source": [
    "s=iter('python')\n",
    "print(s)\n",
    "print(next(s))\n",
    "print(next(s))\n",
    "print(next(s))"
   ]
  },
  {
   "cell_type": "markdown",
   "id": "53e6da36",
   "metadata": {},
   "source": [
    "### Generators\n",
    "- Generator can be used to either functions or comprehensions\n",
    "- it returns a iterator or objects\n",
    "- in generator 'Yield' can be used in place of return"
   ]
  },
  {
   "cell_type": "code",
   "execution_count": 67,
   "id": "2ba3720f",
   "metadata": {},
   "outputs": [
    {
     "data": {
      "text/plain": [
       "'e'"
      ]
     },
     "execution_count": 67,
     "metadata": {},
     "output_type": "execute_result"
    }
   ],
   "source": [
    "def python():\n",
    "    return 'e'\n",
    "    print('place')\n",
    "python()"
   ]
  },
  {
   "cell_type": "code",
   "execution_count": 70,
   "id": "09913853",
   "metadata": {},
   "outputs": [
    {
     "name": "stdout",
     "output_type": "stream",
     "text": [
      "mango\n",
      "program\n",
      "scd\n"
     ]
    }
   ],
   "source": [
    "def python():\n",
    "    yield 'mango'\n",
    "    yield 'program'\n",
    "    yield 'scd'\n",
    "for ch in python():\n",
    "    print(ch)"
   ]
  },
  {
   "cell_type": "markdown",
   "id": "73503079",
   "metadata": {},
   "source": [
    "### Functional Programming\n",
    "- lambda\n",
    "- map\n",
    "- filter\n",
    "- reduce"
   ]
  },
  {
   "cell_type": "markdown",
   "id": "f9d22fd0",
   "metadata": {},
   "source": [
    "### Lambda\n",
    "- anonymous function or single line function\n",
    "- single expression ,no of arguments\n",
    "- syntax::lambda arguments:expression"
   ]
  },
  {
   "cell_type": "code",
   "execution_count": 1,
   "id": "43a0df94",
   "metadata": {},
   "outputs": [
    {
     "data": {
      "text/plain": [
       "9"
      ]
     },
     "execution_count": 1,
     "metadata": {},
     "output_type": "execute_result"
    }
   ],
   "source": [
    "def add(a,b):\n",
    "    return a+b\n",
    "add(4,5)"
   ]
  },
  {
   "cell_type": "code",
   "execution_count": 2,
   "id": "7068125d",
   "metadata": {},
   "outputs": [
    {
     "name": "stdout",
     "output_type": "stream",
     "text": [
      "9\n"
     ]
    }
   ],
   "source": [
    "b=lambda a,b:a+b\n",
    "print(b(4,5))"
   ]
  },
  {
   "cell_type": "markdown",
   "id": "367d2ac2",
   "metadata": {},
   "source": [
    "### Map\n",
    "- syntax:map(function.iterable)"
   ]
  },
  {
   "cell_type": "code",
   "execution_count": 4,
   "id": "51abae86",
   "metadata": {},
   "outputs": [
    {
     "data": {
      "text/plain": [
       "{2, 4, 6, 8, 10, 12, 14}"
      ]
     },
     "execution_count": 4,
     "metadata": {},
     "output_type": "execute_result"
    }
   ],
   "source": [
    "s=set(map(lambda i:i*2,[1,2,3,4,5,6,7]))\n",
    "s"
   ]
  },
  {
   "cell_type": "code",
   "execution_count": 5,
   "id": "8259538d",
   "metadata": {},
   "outputs": [],
   "source": [
    "def mul(i):\n",
    "    return i*3"
   ]
  },
  {
   "cell_type": "code",
   "execution_count": 6,
   "id": "349e1dd5",
   "metadata": {},
   "outputs": [
    {
     "data": {
      "text/plain": [
       "[6, 9, 12, 15, 18, 21, 24]"
      ]
     },
     "execution_count": 6,
     "metadata": {},
     "output_type": "execute_result"
    }
   ],
   "source": [
    "li=list(map(mul,[2,3,4,5,6,7,8]))\n",
    "li"
   ]
  },
  {
   "cell_type": "markdown",
   "id": "c8ea7c01",
   "metadata": {},
   "source": [
    "### Filter\n",
    "- syntax:filter(function,iterable)\n",
    "- map takes all objects in a list and allows you to apply a funtion to it.\n",
    "- filter takes all objects in a list and it runs that throught a function to create a new with all objects"
   ]
  },
  {
   "cell_type": "code",
   "execution_count": 7,
   "id": "06e0f425",
   "metadata": {},
   "outputs": [],
   "source": [
    "nums=[34,56,78,12,13,24,25]\n",
    "\n",
    "def lower_fun(a):\n",
    "    if a<=60:\n",
    "        return True\n",
    "    else:\n",
    "        return False"
   ]
  },
  {
   "cell_type": "code",
   "execution_count": 9,
   "id": "6aaddc55",
   "metadata": {},
   "outputs": [
    {
     "name": "stdout",
     "output_type": "stream",
     "text": [
      "[34, 56, 12, 13, 24, 25]\n"
     ]
    }
   ],
   "source": [
    "a=list(filter((lower_fun),nums))\n",
    "print(a)\n",
    "#for i in a:\n",
    "#    print(i,end=\" \")\n"
   ]
  },
  {
   "cell_type": "code",
   "execution_count": 10,
   "id": "b23bf0f0",
   "metadata": {},
   "outputs": [
    {
     "name": "stdout",
     "output_type": "stream",
     "text": [
      "[34, 56, 78]\n"
     ]
    }
   ],
   "source": [
    "#filter with lambda\n",
    "li=list(filter(lambda x:x>30,nums))\n",
    "print(li)"
   ]
  },
  {
   "cell_type": "code",
   "execution_count": null,
   "id": "423660b1",
   "metadata": {},
   "outputs": [],
   "source": []
  }
 ],
 "metadata": {
  "kernelspec": {
   "display_name": "Python 3 (ipykernel)",
   "language": "python",
   "name": "python3"
  },
  "language_info": {
   "codemirror_mode": {
    "name": "ipython",
    "version": 3
   },
   "file_extension": ".py",
   "mimetype": "text/x-python",
   "name": "python",
   "nbconvert_exporter": "python",
   "pygments_lexer": "ipython3",
   "version": "3.9.7"
  }
 },
 "nbformat": 4,
 "nbformat_minor": 5
}
