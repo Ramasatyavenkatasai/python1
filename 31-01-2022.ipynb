{
 "cells": [
  {
   "cell_type": "code",
   "execution_count": 1,
   "id": "9cc0b2d2",
   "metadata": {},
   "outputs": [
    {
     "name": "stdout",
     "output_type": "stream",
     "text": [
      "welcome vasavi students\n"
     ]
    }
   ],
   "source": [
    "print(\"welcome vasavi students\")"
   ]
  },
  {
   "cell_type": "markdown",
   "id": "da24ea56",
   "metadata": {},
   "source": [
    "# welcome"
   ]
  },
  {
   "cell_type": "markdown",
   "id": "237602da",
   "metadata": {},
   "source": [
    "## welcome"
   ]
  },
  {
   "cell_type": "markdown",
   "id": "eb33313a",
   "metadata": {},
   "source": [
    "### welcome"
   ]
  },
  {
   "cell_type": "markdown",
   "id": "e4659369",
   "metadata": {},
   "source": [
    "*apssdc*"
   ]
  },
  {
   "cell_type": "markdown",
   "id": "f1dbdd4d",
   "metadata": {},
   "source": [
    "**apssdc**"
   ]
  },
  {
   "cell_type": "markdown",
   "id": "0145ad68",
   "metadata": {},
   "source": [
    "***apssdc***"
   ]
  },
  {
   "cell_type": "markdown",
   "id": "192a572c",
   "metadata": {},
   "source": [
    "***apssdc&vasavi***"
   ]
  },
  {
   "cell_type": "markdown",
   "id": "a835920b",
   "metadata": {},
   "source": [
    "i am from apssdc first line.  \n",
    "i am siddhodhana second line.  \n",
    "i am teaching python programming thirdline.  "
   ]
  },
  {
   "cell_type": "markdown",
   "id": "e3ea3a07",
   "metadata": {},
   "source": [
    "- unoder list and sub list\n",
    "- one\n",
    "- two\n",
    "- three\n",
    "    - four\n",
    "    - five\n",
    "    - six\n",
    "    - seven\n",
    "        - eight\n",
    "        - nine\n",
    "        - zero\n"
   ]
  },
  {
   "cell_type": "markdown",
   "id": "8d60c16a",
   "metadata": {},
   "source": [
    "### Order list and sub list"
   ]
  },
  {
   "cell_type": "markdown",
   "id": "9aa52c7d",
   "metadata": {},
   "source": [
    "1. one  \n",
    "2. two  \n",
    "3. three  \n",
    "4. four  \n",
    "    5. five  \n",
    "    6. six  \n",
    "    7. seven  \n",
    "        8. eight  \n",
    "        9. nine  \n",
    "        0. zero  "
   ]
  },
  {
   "cell_type": "markdown",
   "id": "9777934d",
   "metadata": {},
   "source": [
    "### Comments\n",
    "- User readable information or data\n",
    "- comment doesnot exicute\n",
    "- it is mentioned in '#'\n",
    "- for muntiple line comment mention in the formation of ''' '''."
   ]
  },
  {
   "cell_type": "markdown",
   "id": "10a800f7",
   "metadata": {},
   "source": [
    "### Variable\n",
    "- which is used to storing data\n",
    "- variable starts with characters,underscore\n",
    "- variable couldnot start with numbers,special symbols,keywords"
   ]
  },
  {
   "cell_type": "code",
   "execution_count": 4,
   "id": "3718563e",
   "metadata": {},
   "outputs": [
    {
     "data": {
      "text/plain": [
       "456"
      ]
     },
     "execution_count": 4,
     "metadata": {},
     "output_type": "execute_result"
    }
   ],
   "source": [
    "abc123=456\n",
    "abc123"
   ]
  },
  {
   "cell_type": "code",
   "execution_count": 5,
   "id": "cd646a96",
   "metadata": {},
   "outputs": [
    {
     "ename": "SyntaxError",
     "evalue": "invalid syntax (Temp/ipykernel_4516/487475340.py, line 1)",
     "output_type": "error",
     "traceback": [
      "\u001b[1;36m  File \u001b[1;32m\"C:\\Users\\Lab\\AppData\\Local\\Temp/ipykernel_4516/487475340.py\"\u001b[1;36m, line \u001b[1;32m1\u001b[0m\n\u001b[1;33m    123abc=456\u001b[0m\n\u001b[1;37m       ^\u001b[0m\n\u001b[1;31mSyntaxError\u001b[0m\u001b[1;31m:\u001b[0m invalid syntax\n"
     ]
    }
   ],
   "source": [
    "123abc=456\n",
    "123abc\n"
   ]
  },
  {
   "cell_type": "code",
   "execution_count": 6,
   "id": "d690a7f4",
   "metadata": {},
   "outputs": [
    {
     "data": {
      "text/plain": [
       "'apssdc'"
      ]
     },
     "execution_count": 6,
     "metadata": {},
     "output_type": "execute_result"
    }
   ],
   "source": [
    "python_online=\"apssdc\"\n",
    "python_online"
   ]
  },
  {
   "cell_type": "code",
   "execution_count": 7,
   "id": "cf3c6899",
   "metadata": {},
   "outputs": [
    {
     "ename": "SyntaxError",
     "evalue": "invalid syntax (Temp/ipykernel_4516/1883391842.py, line 1)",
     "output_type": "error",
     "traceback": [
      "\u001b[1;36m  File \u001b[1;32m\"C:\\Users\\Lab\\AppData\\Local\\Temp/ipykernel_4516/1883391842.py\"\u001b[1;36m, line \u001b[1;32m1\u001b[0m\n\u001b[1;33m    @apssdc=678\u001b[0m\n\u001b[1;37m           ^\u001b[0m\n\u001b[1;31mSyntaxError\u001b[0m\u001b[1;31m:\u001b[0m invalid syntax\n"
     ]
    }
   ],
   "source": [
    "@apssdc=678\n",
    "@apssdc"
   ]
  },
  {
   "cell_type": "code",
   "execution_count": 8,
   "id": "ea3c2665",
   "metadata": {},
   "outputs": [
    {
     "data": {
      "text/plain": [
       "678"
      ]
     },
     "execution_count": 8,
     "metadata": {},
     "output_type": "execute_result"
    }
   ],
   "source": [
    "apssdc=678\n",
    "apssdc"
   ]
  },
  {
   "cell_type": "code",
   "execution_count": 9,
   "id": "653142d2",
   "metadata": {},
   "outputs": [
    {
     "data": {
      "text/plain": [
       "89"
      ]
     },
     "execution_count": 9,
     "metadata": {},
     "output_type": "execute_result"
    }
   ],
   "source": [
    "PYTHON=89\n",
    "PYTHON"
   ]
  },
  {
   "cell_type": "code",
   "execution_count": null,
   "id": "fe1978c5",
   "metadata": {},
   "outputs": [],
   "source": []
  }
 ],
 "metadata": {
  "kernelspec": {
   "display_name": "Python 3 (ipykernel)",
   "language": "python",
   "name": "python3"
  },
  "language_info": {
   "codemirror_mode": {
    "name": "ipython",
    "version": 3
   },
   "file_extension": ".py",
   "mimetype": "text/x-python",
   "name": "python",
   "nbconvert_exporter": "python",
   "pygments_lexer": "ipython3",
   "version": "3.9.7"
  }
 },
 "nbformat": 4,
 "nbformat_minor": 5
}
