{
 "cells": [
  {
   "cell_type": "code",
   "execution_count": 1,
   "id": "9cc0b2d2",
   "metadata": {},
   "outputs": [
    {
     "name": "stdout",
     "output_type": "stream",
     "text": [
      "welcome vasavi students\n"
     ]
    }
   ],
   "source": [
    "print(\"welcome vasavi students\")"
   ]
  },
  {
   "cell_type": "markdown",
   "id": "da24ea56",
   "metadata": {},
   "source": [
    "# welcome"
   ]
  },
  {
   "cell_type": "markdown",
   "id": "237602da",
   "metadata": {},
   "source": [
    "## welcome"
   ]
  },
  {
   "cell_type": "markdown",
   "id": "eb33313a",
   "metadata": {},
   "source": [
    "### welcome"
   ]
  },
  {
   "cell_type": "markdown",
   "id": "e4659369",
   "metadata": {},
   "source": [
    "*apssdc*"
   ]
  },
  {
   "cell_type": "markdown",
   "id": "f1dbdd4d",
   "metadata": {},
   "source": [
    "**apssdc**"
   ]
  },
  {
   "cell_type": "markdown",
   "id": "0145ad68",
   "metadata": {},
   "source": [
    "***apssdc***"
   ]
  },
  {
   "cell_type": "markdown",
   "id": "192a572c",
   "metadata": {},
   "source": [
    "***apssdc&vasavi***"
   ]
  },
  {
   "cell_type": "markdown",
   "id": "a835920b",
   "metadata": {},
   "source": [
    "i am from apssdc first line.  \n",
    "i am siddhodhana second line.  \n",
    "i am teaching python programming thirdline.  "
   ]
  },
  {
   "cell_type": "markdown",
   "id": "e3ea3a07",
   "metadata": {},
   "source": [
    "- unoder list and sub list\n",
    "- one\n",
    "- two\n",
    "- three\n",
    "    - four\n",
    "    - five\n",
    "    - six\n",
    "    - seven\n",
    "        - eight\n",
    "        - nine\n",
    "        - zero\n"
   ]
  },
  {
   "cell_type": "markdown",
   "id": "8d60c16a",
   "metadata": {},
   "source": [
    "### Order list and sub list"
   ]
  },
  {
   "cell_type": "markdown",
   "id": "9aa52c7d",
   "metadata": {},
   "source": [
    "1. one  \n",
    "2. two  \n",
    "3. three  \n",
    "4. four  \n",
    "    5. five  \n",
    "    6. six  \n",
    "    7. seven  \n",
    "        8. eight  \n",
    "        9. nine  \n",
    "        0. zero  "
   ]
  },
  {
   "cell_type": "markdown",
   "id": "9777934d",
   "metadata": {},
   "source": [
    "### Comments\n",
    "- User readable information or data\n",
    "- comment doesnot exicute\n",
    "- it is mentioned in '#'\n",
    "- for muntiple line comment mention in the formation of ''' '''."
   ]
  },
  {
   "cell_type": "markdown",
   "id": "10a800f7",
   "metadata": {},
   "source": [
    "### Variable\n",
    "- which is used to storing data\n",
    "- variable starts with characters,underscore\n",
    "- variable couldnot start with numbers,special symbols,keywords"
   ]
  },
  {
   "cell_type": "code",
   "execution_count": 4,
   "id": "3718563e",
   "metadata": {},
   "outputs": [
    {
     "data": {
      "text/plain": [
       "456"
      ]
     },
     "execution_count": 4,
     "metadata": {},
     "output_type": "execute_result"
    }
   ],
   "source": [
    "abc123=456\n",
    "abc123"
   ]
  },
  {
   "cell_type": "code",
   "execution_count": 5,
   "id": "cd646a96",
   "metadata": {},
   "outputs": [
    {
     "ename": "SyntaxError",
     "evalue": "invalid syntax (Temp/ipykernel_4516/487475340.py, line 1)",
     "output_type": "error",
     "traceback": [
      "\u001b[1;36m  File \u001b[1;32m\"C:\\Users\\Lab\\AppData\\Local\\Temp/ipykernel_4516/487475340.py\"\u001b[1;36m, line \u001b[1;32m1\u001b[0m\n\u001b[1;33m    123abc=456\u001b[0m\n\u001b[1;37m       ^\u001b[0m\n\u001b[1;31mSyntaxError\u001b[0m\u001b[1;31m:\u001b[0m invalid syntax\n"
     ]
    }
   ],
   "source": [
    "123abc=456\n",
    "123abc\n"
   ]
  },
  {
   "cell_type": "code",
   "execution_count": 6,
   "id": "d690a7f4",
   "metadata": {},
   "outputs": [
    {
     "data": {
      "text/plain": [
       "'apssdc'"
      ]
     },
     "execution_count": 6,
     "metadata": {},
     "output_type": "execute_result"
    }
   ],
   "source": [
    "python_online=\"apssdc\"\n",
    "python_online"
   ]
  },
  {
   "cell_type": "code",
   "execution_count": 7,
   "id": "cf3c6899",
   "metadata": {},
   "outputs": [
    {
     "ename": "SyntaxError",
     "evalue": "invalid syntax (Temp/ipykernel_4516/1883391842.py, line 1)",
     "output_type": "error",
     "traceback": [
      "\u001b[1;36m  File \u001b[1;32m\"C:\\Users\\Lab\\AppData\\Local\\Temp/ipykernel_4516/1883391842.py\"\u001b[1;36m, line \u001b[1;32m1\u001b[0m\n\u001b[1;33m    @apssdc=678\u001b[0m\n\u001b[1;37m           ^\u001b[0m\n\u001b[1;31mSyntaxError\u001b[0m\u001b[1;31m:\u001b[0m invalid syntax\n"
     ]
    }
   ],
   "source": [
    "@apssdc=678\n",
    "@apssdc"
   ]
  },
  {
   "cell_type": "code",
   "execution_count": 8,
   "id": "ea3c2665",
   "metadata": {},
   "outputs": [
    {
     "data": {
      "text/plain": [
       "678"
      ]
     },
     "execution_count": 8,
     "metadata": {},
     "output_type": "execute_result"
    }
   ],
   "source": [
    "apssdc=678\n",
    "apssdc"
   ]
  },
  {
   "cell_type": "code",
   "execution_count": 9,
   "id": "653142d2",
   "metadata": {},
   "outputs": [
    {
     "data": {
      "text/plain": [
       "89"
      ]
     },
     "execution_count": 9,
     "metadata": {},
     "output_type": "execute_result"
    }
   ],
   "source": [
    "PYTHON=89\n",
    "PYTHON"
   ]
  },
  {
   "cell_type": "code",
   "execution_count": 1,
   "id": "fe1978c5",
   "metadata": {},
   "outputs": [
    {
     "data": {
      "text/plain": [
       "67"
      ]
     },
     "execution_count": 1,
     "metadata": {},
     "output_type": "execute_result"
    }
   ],
   "source": [
    "python=67\n",
    "python"
   ]
  },
  {
   "cell_type": "code",
   "execution_count": 2,
   "id": "c6e3d7a5",
   "metadata": {},
   "outputs": [
    {
     "ename": "SyntaxError",
     "evalue": "invalid syntax (Temp/ipykernel_3128/2862059059.py, line 1)",
     "output_type": "error",
     "traceback": [
      "\u001b[1;36m  File \u001b[1;32m\"C:\\Users\\Lab\\AppData\\Local\\Temp/ipykernel_3128/2862059059.py\"\u001b[1;36m, line \u001b[1;32m1\u001b[0m\n\u001b[1;33m    python offline=3456789\u001b[0m\n\u001b[1;37m           ^\u001b[0m\n\u001b[1;31mSyntaxError\u001b[0m\u001b[1;31m:\u001b[0m invalid syntax\n"
     ]
    }
   ],
   "source": [
    "python offline=3456789\n",
    "python offline"
   ]
  },
  {
   "cell_type": "code",
   "execution_count": 3,
   "id": "0defb197",
   "metadata": {},
   "outputs": [
    {
     "data": {
      "text/plain": [
       "3456789"
      ]
     },
     "execution_count": 3,
     "metadata": {},
     "output_type": "execute_result"
    }
   ],
   "source": [
    "python_offline=3456789\n",
    "python_offline"
   ]
  },
  {
   "cell_type": "markdown",
   "id": "c923e2b3",
   "metadata": {},
   "source": [
    "### Datatypes\n",
    "- int(all integer values)\n",
    "- float(integer with decimal point)\n",
    "- str(combination of characters or group of characters)\n",
    "- complex(number with real and imaginary part)\n",
    "- boolean(True,False)"
   ]
  },
  {
   "cell_type": "code",
   "execution_count": 4,
   "id": "961aba02",
   "metadata": {},
   "outputs": [],
   "source": [
    "a=675\n",
    "b=34.79\n",
    "c=\"apssdc\"\n",
    "d='p'\n",
    "e=1+2j\n",
    "f='1+2j'\n",
    "g=True"
   ]
  },
  {
   "cell_type": "code",
   "execution_count": 5,
   "id": "d2efd212",
   "metadata": {},
   "outputs": [
    {
     "name": "stdout",
     "output_type": "stream",
     "text": [
      "<class 'int'>\n",
      "<class 'float'>\n",
      "<class 'str'>\n",
      "<class 'str'>\n",
      "<class 'complex'>\n",
      "<class 'str'>\n",
      "<class 'bool'>\n"
     ]
    }
   ],
   "source": [
    "print(type(a))\n",
    "print(type(b))\n",
    "print(type(c))\n",
    "print(type(d))\n",
    "print(type(e))\n",
    "print(type(f))\n",
    "print(type(g))"
   ]
  },
  {
   "cell_type": "markdown",
   "id": "c6f45ed6",
   "metadata": {},
   "source": [
    "### Typecasting\n",
    "- which converts the data from one datatype another data type"
   ]
  },
  {
   "cell_type": "code",
   "execution_count": 6,
   "id": "a0f73cbf",
   "metadata": {},
   "outputs": [
    {
     "name": "stdout",
     "output_type": "stream",
     "text": [
      "<class 'int'>\n"
     ]
    }
   ],
   "source": [
    "_abc=568\n",
    "print(type(_abc))"
   ]
  },
  {
   "cell_type": "code",
   "execution_count": 7,
   "id": "7e589fbd",
   "metadata": {},
   "outputs": [
    {
     "name": "stdout",
     "output_type": "stream",
     "text": [
      "<class 'str'>\n",
      "568\n"
     ]
    }
   ],
   "source": [
    "z=str(_abc)\n",
    "print(type(z))\n",
    "print(z)"
   ]
  },
  {
   "cell_type": "code",
   "execution_count": 8,
   "id": "78f7da96",
   "metadata": {},
   "outputs": [
    {
     "name": "stdout",
     "output_type": "stream",
     "text": [
      "<class 'float'>\n",
      "568.0\n"
     ]
    }
   ],
   "source": [
    "z=float(_abc)\n",
    "print(type(z))\n",
    "print(z)"
   ]
  },
  {
   "cell_type": "code",
   "execution_count": 9,
   "id": "feb8b4e8",
   "metadata": {},
   "outputs": [
    {
     "name": "stdout",
     "output_type": "stream",
     "text": [
      "<class 'complex'>\n",
      "(568+0j)\n"
     ]
    }
   ],
   "source": [
    "z=complex(_abc)\n",
    "print(type(z))\n",
    "print(z)"
   ]
  },
  {
   "cell_type": "code",
   "execution_count": 10,
   "id": "d64c2320",
   "metadata": {},
   "outputs": [
    {
     "name": "stdout",
     "output_type": "stream",
     "text": [
      "<class 'str'>\n"
     ]
    }
   ],
   "source": [
    "abc=\"vasavi college\"\n",
    "print(type(abc))"
   ]
  },
  {
   "cell_type": "code",
   "execution_count": 11,
   "id": "9cbd82a1",
   "metadata": {},
   "outputs": [
    {
     "ename": "ValueError",
     "evalue": "invalid literal for int() with base 10: 'vasavi college'",
     "output_type": "error",
     "traceback": [
      "\u001b[1;31m---------------------------------------------------------------------------\u001b[0m",
      "\u001b[1;31mValueError\u001b[0m                                Traceback (most recent call last)",
      "\u001b[1;32m~\\AppData\\Local\\Temp/ipykernel_3128/3789439297.py\u001b[0m in \u001b[0;36m<module>\u001b[1;34m\u001b[0m\n\u001b[1;32m----> 1\u001b[1;33m \u001b[0mz\u001b[0m\u001b[1;33m=\u001b[0m\u001b[0mint\u001b[0m\u001b[1;33m(\u001b[0m\u001b[0mabc\u001b[0m\u001b[1;33m)\u001b[0m\u001b[1;33m\u001b[0m\u001b[1;33m\u001b[0m\u001b[0m\n\u001b[0m\u001b[0;32m      2\u001b[0m \u001b[0mprint\u001b[0m\u001b[1;33m(\u001b[0m\u001b[0mtype\u001b[0m\u001b[1;33m(\u001b[0m\u001b[0mz\u001b[0m\u001b[1;33m)\u001b[0m\u001b[1;33m)\u001b[0m\u001b[1;33m\u001b[0m\u001b[1;33m\u001b[0m\u001b[0m\n\u001b[0;32m      3\u001b[0m \u001b[0mprint\u001b[0m\u001b[1;33m(\u001b[0m\u001b[0mz\u001b[0m\u001b[1;33m)\u001b[0m\u001b[1;33m\u001b[0m\u001b[1;33m\u001b[0m\u001b[0m\n",
      "\u001b[1;31mValueError\u001b[0m: invalid literal for int() with base 10: 'vasavi college'"
     ]
    }
   ],
   "source": [
    "z=int(abc)\n",
    "print(type(z))\n",
    "print(z)"
   ]
  },
  {
   "cell_type": "code",
   "execution_count": 12,
   "id": "51c4bf8a",
   "metadata": {},
   "outputs": [
    {
     "name": "stdout",
     "output_type": "stream",
     "text": [
      "<class 'int'>\n",
      "123445678\n"
     ]
    }
   ],
   "source": [
    "abc=\"123445678\"\n",
    "z=int(abc)\n",
    "print(type(z))\n",
    "print(z)"
   ]
  },
  {
   "cell_type": "code",
   "execution_count": 13,
   "id": "9d2798ab",
   "metadata": {},
   "outputs": [
    {
     "name": "stdout",
     "output_type": "stream",
     "text": [
      "<class 'float'>\n",
      "123445678.0\n"
     ]
    }
   ],
   "source": [
    "z=float(abc)\n",
    "print(type(z))\n",
    "print(z)"
   ]
  },
  {
   "cell_type": "code",
   "execution_count": 14,
   "id": "a6f75b6a",
   "metadata": {},
   "outputs": [
    {
     "name": "stdout",
     "output_type": "stream",
     "text": [
      "<class 'complex'>\n",
      "(123445678+0j)\n"
     ]
    }
   ],
   "source": [
    "z=complex(abc)\n",
    "print(type(z))\n",
    "print(z)"
   ]
  },
  {
   "cell_type": "code",
   "execution_count": 15,
   "id": "e8352be2",
   "metadata": {},
   "outputs": [
    {
     "name": "stdout",
     "output_type": "stream",
     "text": [
      "<class 'int'>\n",
      "45\n"
     ]
    }
   ],
   "source": [
    "vasavi=45.234\n",
    "z=int(vasavi)\n",
    "print(type(z))\n",
    "print(z)"
   ]
  },
  {
   "cell_type": "code",
   "execution_count": null,
   "id": "bf681345",
   "metadata": {},
   "outputs": [],
   "source": []
  }
 ],
 "metadata": {
  "kernelspec": {
   "display_name": "Python 3 (ipykernel)",
   "language": "python",
   "name": "python3"
  },
  "language_info": {
   "codemirror_mode": {
    "name": "ipython",
    "version": 3
   },
   "file_extension": ".py",
   "mimetype": "text/x-python",
   "name": "python",
   "nbconvert_exporter": "python",
   "pygments_lexer": "ipython3",
   "version": "3.9.7"
  }
 },
 "nbformat": 4,
 "nbformat_minor": 5
}
